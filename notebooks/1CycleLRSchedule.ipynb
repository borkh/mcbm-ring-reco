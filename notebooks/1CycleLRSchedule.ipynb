{
 "cells": [
  {
   "cell_type": "code",
   "execution_count": 2,
   "id": "52439cd4-b9d3-4723-8f8a-d4f52d64300d",
   "metadata": {},
   "outputs": [],
   "source": [
    "#!/usr/bin/env python3\n",
    "import sys\n",
    "sys.path.append(\"..\")\n",
    "\n",
    "import matplotlib.pyplot as plt\n",
    "from train import *\n",
    "from model import *\n",
    "%matplotlib inline\n",
    "\n",
    "## ---------------------- load data ----------------------------------------\n",
    "with open(\"../data/100k.pkl\", \"rb\") as f:\n",
    "    x, y = pkl.load(f)"
   ]
  },
  {
   "cell_type": "markdown",
   "id": "f4d3639c-e510-4893-9ba7-1cbae6555af7",
   "metadata": {},
   "source": [
    "## Find optimal learning rate range"
   ]
  },
  {
   "cell_type": "code",
   "execution_count": 3,
   "id": "76e1ebe0-91d8-44e8-ba26-78bdea24893b",
   "metadata": {},
   "outputs": [
    {
     "name": "stdout",
     "output_type": "stream",
     "text": [
      "Model: \"model\"\n",
      "_________________________________________________________________\n",
      " Layer (type)                Output Shape              Param #   \n",
      "=================================================================\n",
      " input_1 (InputLayer)        [(None, 72, 32, 1)]       0         \n",
      "                                                                 \n",
      " conv2d (Conv2D)             (None, 72, 32, 64)        640       \n",
      "                                                                 \n",
      " batch_normalization (BatchN  (None, 72, 32, 64)       256       \n",
      " ormalization)                                                   \n",
      "                                                                 \n",
      " conv2d_1 (Conv2D)           (None, 72, 32, 64)        36928     \n",
      "                                                                 \n",
      " batch_normalization_1 (Batc  (None, 72, 32, 64)       256       \n",
      " hNormalization)                                                 \n",
      "                                                                 \n",
      " max_pooling2d (MaxPooling2D  (None, 36, 16, 64)       0         \n",
      " )                                                               \n",
      "                                                                 \n",
      " conv2d_2 (Conv2D)           (None, 36, 16, 128)       73856     \n",
      "                                                                 \n",
      " batch_normalization_2 (Batc  (None, 36, 16, 128)      512       \n",
      " hNormalization)                                                 \n",
      "                                                                 \n",
      " conv2d_3 (Conv2D)           (None, 36, 16, 128)       147584    \n",
      "                                                                 \n",
      " batch_normalization_3 (Batc  (None, 36, 16, 128)      512       \n",
      " hNormalization)                                                 \n",
      "                                                                 \n",
      " max_pooling2d_1 (MaxPooling  (None, 18, 8, 128)       0         \n",
      " 2D)                                                             \n",
      "                                                                 \n",
      " conv2d_4 (Conv2D)           (None, 18, 8, 256)        295168    \n",
      "                                                                 \n",
      " batch_normalization_4 (Batc  (None, 18, 8, 256)       1024      \n",
      " hNormalization)                                                 \n",
      "                                                                 \n",
      " conv2d_5 (Conv2D)           (None, 18, 8, 256)        590080    \n",
      "                                                                 \n",
      " batch_normalization_5 (Batc  (None, 18, 8, 256)       1024      \n",
      " hNormalization)                                                 \n",
      "                                                                 \n",
      " max_pooling2d_2 (MaxPooling  (None, 9, 4, 256)        0         \n",
      " 2D)                                                             \n",
      "                                                                 \n",
      " conv2d_6 (Conv2D)           (None, 9, 4, 512)         1180160   \n",
      "                                                                 \n",
      " batch_normalization_6 (Batc  (None, 9, 4, 512)        2048      \n",
      " hNormalization)                                                 \n",
      "                                                                 \n",
      " conv2d_7 (Conv2D)           (None, 9, 4, 512)         2359808   \n",
      "                                                                 \n",
      " batch_normalization_7 (Batc  (None, 9, 4, 512)        2048      \n",
      " hNormalization)                                                 \n",
      "                                                                 \n",
      " max_pooling2d_3 (MaxPooling  (None, 5, 2, 512)        0         \n",
      " 2D)                                                             \n",
      "                                                                 \n",
      " flatten (Flatten)           (None, 5120)              0         \n",
      "                                                                 \n",
      " batch_normalization_8 (Batc  (None, 5120)             20480     \n",
      " hNormalization)                                                 \n",
      "                                                                 \n",
      " fc3 (Dense)                 (None, 64)                327744    \n",
      "                                                                 \n",
      " batch_normalization_9 (Batc  (None, 64)               256       \n",
      " hNormalization)                                                 \n",
      "                                                                 \n",
      " predictions (Dense)         (None, 15)                975       \n",
      "                                                                 \n",
      "=================================================================\n",
      "Total params: 5,041,359\n",
      "Trainable params: 5,027,151\n",
      "Non-trainable params: 14,208\n",
      "_________________________________________________________________\n",
      "100000\n",
      "Epoch 1/3\n",
      "391/391 [==============================] - 59s 138ms/step - loss: 160.4607 - accuracy: 0.1271\n",
      "Epoch 2/3\n",
      "391/391 [==============================] - 52s 134ms/step - loss: 83.7202 - accuracy: 0.3810\n",
      "Epoch 3/3\n",
      "391/391 [==============================] - 42s 107ms/step - loss: 57.3220 - accuracy: 0.6196\n"
     ]
    },
    {
     "name": "stderr",
     "output_type": "stream",
     "text": [
      "2022-06-02 11:19:12.276024: I tensorflow/stream_executor/cuda/cuda_gpu_executor.cc:936] successful NUMA node read from SysFS had negative value (-1), but there must be at least one NUMA node, so returning NUMA node zero\n",
      "2022-06-02 11:19:12.314407: I tensorflow/stream_executor/cuda/cuda_gpu_executor.cc:936] successful NUMA node read from SysFS had negative value (-1), but there must be at least one NUMA node, so returning NUMA node zero\n",
      "2022-06-02 11:19:12.314611: I tensorflow/stream_executor/cuda/cuda_gpu_executor.cc:936] successful NUMA node read from SysFS had negative value (-1), but there must be at least one NUMA node, so returning NUMA node zero\n",
      "2022-06-02 11:19:12.315140: I tensorflow/core/platform/cpu_feature_guard.cc:151] This TensorFlow binary is optimized with oneAPI Deep Neural Network Library (oneDNN) to use the following CPU instructions in performance-critical operations:  AVX2 FMA\n",
      "To enable them in other operations, rebuild TensorFlow with the appropriate compiler flags.\n",
      "2022-06-02 11:19:12.315937: I tensorflow/stream_executor/cuda/cuda_gpu_executor.cc:936] successful NUMA node read from SysFS had negative value (-1), but there must be at least one NUMA node, so returning NUMA node zero\n",
      "2022-06-02 11:19:12.316106: I tensorflow/stream_executor/cuda/cuda_gpu_executor.cc:936] successful NUMA node read from SysFS had negative value (-1), but there must be at least one NUMA node, so returning NUMA node zero\n",
      "2022-06-02 11:19:12.316257: I tensorflow/stream_executor/cuda/cuda_gpu_executor.cc:936] successful NUMA node read from SysFS had negative value (-1), but there must be at least one NUMA node, so returning NUMA node zero\n",
      "2022-06-02 11:19:12.722043: I tensorflow/stream_executor/cuda/cuda_gpu_executor.cc:936] successful NUMA node read from SysFS had negative value (-1), but there must be at least one NUMA node, so returning NUMA node zero\n",
      "2022-06-02 11:19:12.722242: I tensorflow/stream_executor/cuda/cuda_gpu_executor.cc:936] successful NUMA node read from SysFS had negative value (-1), but there must be at least one NUMA node, so returning NUMA node zero\n",
      "2022-06-02 11:19:12.722402: I tensorflow/stream_executor/cuda/cuda_gpu_executor.cc:936] successful NUMA node read from SysFS had negative value (-1), but there must be at least one NUMA node, so returning NUMA node zero\n",
      "2022-06-02 11:19:12.722534: I tensorflow/core/common_runtime/gpu/gpu_device.cc:1525] Created device /job:localhost/replica:0/task:0/device:GPU:0 with 4327 MB memory:  -> device: 0, name: NVIDIA GeForce RTX 2060, pci bus id: 0000:29:00.0, compute capability: 7.5\n",
      "2022-06-02 11:19:13.712398: W tensorflow/core/framework/cpu_allocator_impl.cc:82] Allocation of 921600000 exceeds 10% of free system memory.\n",
      "2022-06-02 11:19:14.380192: W tensorflow/core/framework/cpu_allocator_impl.cc:82] Allocation of 921600000 exceeds 10% of free system memory.\n",
      "2022-06-02 11:19:16.226563: I tensorflow/stream_executor/cuda/cuda_dnn.cc:368] Loaded cuDNN version 8400\n",
      "2022-06-02 11:19:19.886516: W tensorflow/core/common_runtime/bfc_allocator.cc:275] Allocator (GPU_0_bfc) ran out of memory trying to allocate 2.55GiB with freed_by_count=0. The caller indicates that this is not a failure, but may mean that there could be performance gains if more memory were available.\n",
      "2022-06-02 11:19:19.886549: W tensorflow/core/common_runtime/bfc_allocator.cc:275] Allocator (GPU_0_bfc) ran out of memory trying to allocate 2.55GiB with freed_by_count=0. The caller indicates that this is not a failure, but may mean that there could be performance gains if more memory were available.\n"
     ]
    }
   ],
   "source": [
    "model = build_model_no_config(x[0].shape, y.shape[-1])\n",
    "print(x.shape[0])\n",
    "\n",
    "lr = 0.001\n",
    "opt= SGD(lr)\n",
    "model.compile(optimizer=opt, loss=\"mse\", metrics=[\"accuracy\"])\n",
    "\n",
    "lr_finder = LRFinder(model)\n",
    "lr_finder.find(x, y, start_lr=1e-6, end_lr=3, batch_size=256, epochs=3)"
   ]
  },
  {
   "cell_type": "code",
   "execution_count": 4,
   "id": "162d6b3f-c3df-46b2-abe2-aed4e5456e90",
   "metadata": {},
   "outputs": [
    {
     "data": {
      "image/png": "[encoded data removed]",
      "text/plain": [
       "<Figure size 432x288 with 1 Axes>"
      ]
     },
     "metadata": {
      "needs_background": "light"
     },
     "output_type": "display_data"
    },
    {
     "data": {
      "image/png": "[encoded data removed]",
      "text/plain": [
       "<Figure size 432x288 with 1 Axes>"
      ]
     },
     "metadata": {
      "needs_background": "light"
     },
     "output_type": "display_data"
    }
   ],
   "source": [
    "lr_finder.plot_loss(n_skip_beginning=20, n_skip_end=5)\n",
    "plt.show()\n",
    "lr_finder.plot_loss_change(sma=1000, n_skip_beginning=20, n_skip_end=5)\n",
    "plt.show()"
   ]
  },
  {
   "cell_type": "markdown",
   "id": "70791810-29d2-44f2-956c-882fb62b11e9",
   "metadata": {},
   "source": [
    "## Use 1cycle LR policy"
   ]
  },
  {
   "cell_type": "code",
   "execution_count": 2,
   "id": "0d4d718c-3583-41c9-ba6b-364df44f1d78",
   "metadata": {},
   "outputs": [
    {
     "data": {
      "image/png": "[encoded data removed]",
      "text/plain": [
       "<Figure size 432x288 with 1 Axes>"
      ]
     },
     "metadata": {
      "needs_background": "light"
     },
     "output_type": "display_data"
    }
   ],
   "source": [
    "from one_cycle import *\n",
    "x = np.arange(30)\n",
    "cos = CosineAnnealer(1, 5, 30)\n",
    "y = [cos.step() for i in range(30)]\n",
    "plt.plot(x, y)\n",
    "plt.show()"
   ]
  },
  {
   "cell_type": "code",
   "execution_count": 6,
   "id": "bd23735d-2456-4f89-a3cb-bd0897f6fb2b",
   "metadata": {},
   "outputs": [
    {
     "data": {
      "text/plain": [
       "<one_cycle.OneCycleSchedule at 0x7fae7bca61a0>"
      ]
     },
     "execution_count": 6,
     "metadata": {},
     "output_type": "execute_result"
    }
   ],
   "source": [
    "epochs = 20\n",
    "spe = 5000\n",
    "one_cycle = OneCycleSchedule(1e-6, 0.001, 4*spe)\n",
    "\n",
    "one_cycle"
   ]
  }
 ],
 "metadata": {
  "kernelspec": {
   "display_name": "Python 3 (ipykernel)",
   "language": "python",
   "name": "python3"
  },
  "language_info": {
   "codemirror_mode": {
    "name": "ipython",
    "version": 3
   },
   "file_extension": ".py",
   "mimetype": "text/x-python",
   "name": "python",
   "nbconvert_exporter": "python",
   "pygments_lexer": "ipython3",
   "version": "3.10.4"
  }
 },
 "nbformat": 4,
 "nbformat_minor": 5
}
