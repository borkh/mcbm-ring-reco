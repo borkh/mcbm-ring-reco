{
 "cells": [
  {
   "cell_type": "code",
   "execution_count": null,
   "id": "b53925d6",
   "metadata": {},
   "outputs": [],
   "source": [
    "#!/usr/bin/env python3\n",
    "import matplotlib.pyplot as plt\n",
    "import tensorflow as tf\n",
    "import numpy as np\n",
    "from model import *\n",
    "from visual_functions import *\n",
    "from sweep_configs import *\n",
    "from sklearn.model_selection import train_test_split\n",
    "from wandb.keras import WandbCallback\n",
    "#from optimization import *\n",
    "%matplotlib inline\n",
    "\n",
    "## ---------------------- load data ----------------------------\n",
    "data_dir = \"./datasets/\"\n",
    "\n",
    "displays = np.load(data_dir + \"displays.npy\", \"r\")\n",
    "displays_test = np.load(data_dir + \"displays_test.npy\", \"r\")\n",
    "\n",
    "params = np.load(data_dir + \"params.npy\", \"r\")\n",
    "params_test = np.load(data_dir + \"params_test.npy\", \"r\")"
   ]
  },
  {
   "cell_type": "code",
   "execution_count": null,
   "id": "ee587e35-e85a-4844-8a88-7ce6693b7500",
   "metadata": {},
   "outputs": [],
   "source": [
    "def train(config=None):\n",
    "    with wandb.init(config=sweep_config):\n",
    "        config = wandb.config\n",
    "        model = create_model(displays[0].shape, config)\n",
    "        \n",
    "        model.compile(optimizer=config.optimizer, loss=config.loss, metrics=['accuracy'])\n",
    "        model.fit(displays, params, batch_size=config.batch_size, epochs=config.epochs, validation_split=0.2, callbacks=[WandbCallback()])"
   ]
  },
  {
   "cell_type": "code",
   "execution_count": 3,
   "id": "385819fc-6540-4f0b-8700-51c1e0b7ce19",
   "metadata": {},
   "outputs": [
    {
     "name": "stdout",
     "output_type": "stream",
     "text": [
      "Create sweep with ID: 6tloh19c\n",
      "Sweep URL: https://wandb.ai/rhaas/params-finder-sweep/sweeps/6tloh19c\n"
     ]
    }
   ],
   "source": [
    "sweep_id = wandb.sweep(sweep_config, project='params-finder-sweep')\n",
    "#sweep_id = \"ztxv1wnw\""
   ]
  },
  {
   "cell_type": "code",
   "execution_count": 4,
   "id": "e7977992-7a28-4a01-a9c1-2ebac67d023c",
   "metadata": {},
   "outputs": [
    {
     "name": "stderr",
     "output_type": "stream",
     "text": [
      "\u001b[34m\u001b[1mwandb\u001b[0m: Agent Starting Run: d55y30fv with config:\n",
      "\u001b[34m\u001b[1mwandb\u001b[0m: \tbatch_size: 79\n",
      "\u001b[34m\u001b[1mwandb\u001b[0m: \tconv_layer_size: 128\n",
      "\u001b[34m\u001b[1mwandb\u001b[0m: \tdropout: 0.3\n",
      "\u001b[34m\u001b[1mwandb\u001b[0m: \tepochs: 10\n",
      "\u001b[34m\u001b[1mwandb\u001b[0m: \tfc_activation: sigmoid\n",
      "\u001b[34m\u001b[1mwandb\u001b[0m: \tfc_layer_size: 256\n",
      "\u001b[34m\u001b[1mwandb\u001b[0m: \tlayers: 2\n",
      "\u001b[34m\u001b[1mwandb\u001b[0m: \tlearning_rate: 0.022561616037868482\n",
      "\u001b[34m\u001b[1mwandb\u001b[0m: \tloss: MeanAbsoluteError\n",
      "\u001b[34m\u001b[1mwandb\u001b[0m: \toptimizer: sgd\n",
      "\u001b[34m\u001b[1mwandb\u001b[0m: Currently logged in as: \u001b[33mrhaas\u001b[0m (use `wandb login --relogin` to force relogin)\n"
     ]
    },
    {
     "data": {
      "text/html": [
       "\n",
       "                Tracking run with wandb version 0.10.33<br/>\n",
       "                Syncing run <strong style=\"color:#cdcd00\">olive-sweep-1</strong> to <a href=\"https://wandb.ai\" target=\"_blank\">Weights & Biases</a> <a href=\"https://docs.wandb.com/integrations/jupyter.html\" target=\"_blank\">(Documentation)</a>.<br/>\n",
       "                Project page: <a href=\"https://wandb.ai/rhaas/params-finder-sweep\" target=\"_blank\">https://wandb.ai/rhaas/params-finder-sweep</a><br/>\n",
       "                Sweep page: <a href=\"https://wandb.ai/rhaas/params-finder-sweep/sweeps/6tloh19c\" target=\"_blank\">https://wandb.ai/rhaas/params-finder-sweep/sweeps/6tloh19c</a><br/>\n",
       "Run page: <a href=\"https://wandb.ai/rhaas/params-finder-sweep/runs/d55y30fv\" target=\"_blank\">https://wandb.ai/rhaas/params-finder-sweep/runs/d55y30fv</a><br/>\n",
       "                Run data is saved locally in <code>/home/robin/ML/cbm_ring_finder/wandb/run-20210715_151303-d55y30fv</code><br/><br/>\n",
       "            "
      ],
      "text/plain": [
       "<IPython.core.display.HTML object>"
      ]
     },
     "metadata": {},
     "output_type": "display_data"
    },
    {
     "name": "stdout",
     "output_type": "stream",
     "text": [
      "Epoch 1/10\n",
      "  4/203 [..............................] - ETA: 4s - loss: 12.6120 - accuracy: 0.1361  WARNING:tensorflow:Callback method `on_train_batch_end` is slow compared to the batch time (batch time: 0.0097s vs `on_train_batch_end` time: 0.0099s). Check your callbacks.\n",
      "203/203 [==============================] - 6s 22ms/step - loss: 12.5888 - accuracy: 0.1431 - val_loss: 12.6601 - val_accuracy: 0.2420\n",
      "Epoch 2/10\n",
      "203/203 [==============================] - 4s 21ms/step - loss: 12.5630 - accuracy: 0.1423 - val_loss: 12.6254 - val_accuracy: 0.1657\n",
      "Epoch 3/10\n",
      "203/203 [==============================] - 4s 22ms/step - loss: 12.5330 - accuracy: 0.1349 - val_loss: 12.5478 - val_accuracy: 0.1380\n",
      "Epoch 4/10\n",
      "203/203 [==============================] - 4s 21ms/step - loss: 12.4996 - accuracy: 0.1312 - val_loss: 12.4789 - val_accuracy: 0.1357\n",
      "Epoch 5/10\n",
      "203/203 [==============================] - 4s 21ms/step - loss: 12.4577 - accuracy: 0.1386 - val_loss: 12.4321 - val_accuracy: 0.1593\n",
      "Epoch 6/10\n",
      "203/203 [==============================] - 4s 21ms/step - loss: 12.4147 - accuracy: 0.1542 - val_loss: 12.3943 - val_accuracy: 0.1883\n",
      "Epoch 7/10\n",
      "203/203 [==============================] - 4s 21ms/step - loss: 12.3721 - accuracy: 0.1578 - val_loss: 12.3608 - val_accuracy: 0.1947\n",
      "Epoch 8/10\n",
      "203/203 [==============================] - 4s 20ms/step - loss: 12.3344 - accuracy: 0.1644 - val_loss: 12.3306 - val_accuracy: 0.2017\n",
      "Epoch 9/10\n",
      "203/203 [==============================] - 4s 21ms/step - loss: 12.3045 - accuracy: 0.1675 - val_loss: 12.3029 - val_accuracy: 0.2037\n",
      "Epoch 10/10\n",
      "203/203 [==============================] - 4s 21ms/step - loss: 12.2785 - accuracy: 0.1704 - val_loss: 12.2771 - val_accuracy: 0.2235\n"
     ]
    },
    {
     "data": {
      "text/html": [
       "<br/>Waiting for W&B process to finish, PID 18234<br/>Program ended successfully."
      ],
      "text/plain": [
       "<IPython.core.display.HTML object>"
      ]
     },
     "metadata": {},
     "output_type": "display_data"
    },
    {
     "data": {
      "application/vnd.jupyter.widget-view+json": {
       "model_id": "",
       "version_major": 2,
       "version_minor": 0
      },
      "text/plain": [
       "VBox(children=(Label(value=' 8.63MB of 8.63MB uploaded (0.00MB deduped)\\r'), FloatProgress(value=1.0, max=1.0)…"
      ]
     },
     "metadata": {},
     "output_type": "display_data"
    },
    {
     "data": {
      "text/html": [
       "Find user logs for this run at: <code>/home/robin/ML/cbm_ring_finder/wandb/run-20210715_151303-d55y30fv/logs/debug.log</code>"
      ],
      "text/plain": [
       "<IPython.core.display.HTML object>"
      ]
     },
     "metadata": {},
     "output_type": "display_data"
    },
    {
     "data": {
      "text/html": [
       "Find internal logs for this run at: <code>/home/robin/ML/cbm_ring_finder/wandb/run-20210715_151303-d55y30fv/logs/debug-internal.log</code>"
      ],
      "text/plain": [
       "<IPython.core.display.HTML object>"
      ]
     },
     "metadata": {},
     "output_type": "display_data"
    },
    {
     "data": {
      "text/html": [
       "<h3>Run summary:</h3><br/><style>\n",
       "    table.wandb td:nth-child(1) { padding: 0 10px; text-align: right }\n",
       "    </style><table class=\"wandb\">\n",
       "<tr><td>epoch</td><td>9</td></tr><tr><td>loss</td><td>12.27854</td></tr><tr><td>accuracy</td><td>0.17044</td></tr><tr><td>val_loss</td><td>12.27709</td></tr><tr><td>val_accuracy</td><td>0.2235</td></tr><tr><td>_runtime</td><td>46</td></tr><tr><td>_timestamp</td><td>1626354829</td></tr><tr><td>_step</td><td>9</td></tr><tr><td>best_val_loss</td><td>12.27709</td></tr><tr><td>best_epoch</td><td>9</td></tr></table>"
      ],
      "text/plain": [
       "<IPython.core.display.HTML object>"
      ]
     },
     "metadata": {},
     "output_type": "display_data"
    },
    {
     "data": {
      "text/html": [
       "<h3>Run history:</h3><br/><style>\n",
       "    table.wandb td:nth-child(1) { padding: 0 10px; text-align: right }\n",
       "    </style><table class=\"wandb\">\n",
       "<tr><td>epoch</td><td>▁▂▃▃▄▅▆▆▇█</td></tr><tr><td>loss</td><td>█▇▇▆▅▄▃▂▂▁</td></tr><tr><td>accuracy</td><td>▃▃▂▁▂▅▆▇▇█</td></tr><tr><td>val_loss</td><td>█▇▆▅▄▃▃▂▁▁</td></tr><tr><td>val_accuracy</td><td>█▃▁▁▃▄▅▅▅▇</td></tr><tr><td>_runtime</td><td>▁▂▃▃▄▅▆▇▇█</td></tr><tr><td>_timestamp</td><td>▁▂▃▃▄▅▆▇▇█</td></tr><tr><td>_step</td><td>▁▂▃▃▄▅▆▆▇█</td></tr></table><br/>"
      ],
      "text/plain": [
       "<IPython.core.display.HTML object>"
      ]
     },
     "metadata": {},
     "output_type": "display_data"
    },
    {
     "data": {
      "text/html": [
       "Synced 5 W&B file(s), 1 media file(s), 0 artifact file(s) and 1 other file(s)"
      ],
      "text/plain": [
       "<IPython.core.display.HTML object>"
      ]
     },
     "metadata": {},
     "output_type": "display_data"
    },
    {
     "data": {
      "text/html": [
       "\n",
       "                    <br/>Synced <strong style=\"color:#cdcd00\">olive-sweep-1</strong>: <a href=\"https://wandb.ai/rhaas/params-finder-sweep/runs/d55y30fv\" target=\"_blank\">https://wandb.ai/rhaas/params-finder-sweep/runs/d55y30fv</a><br/>\n",
       "                "
      ],
      "text/plain": [
       "<IPython.core.display.HTML object>"
      ]
     },
     "metadata": {},
     "output_type": "display_data"
    },
    {
     "name": "stderr",
     "output_type": "stream",
     "text": [
      "\u001b[34m\u001b[1mwandb\u001b[0m: Agent Starting Run: bf2ddvyt with config:\n",
      "\u001b[34m\u001b[1mwandb\u001b[0m: \tbatch_size: 95\n",
      "\u001b[34m\u001b[1mwandb\u001b[0m: \tconv_layer_size: 16\n",
      "\u001b[34m\u001b[1mwandb\u001b[0m: \tdropout: 0.5\n",
      "\u001b[34m\u001b[1mwandb\u001b[0m: \tepochs: 10\n",
      "\u001b[34m\u001b[1mwandb\u001b[0m: \tfc_activation: relu\n",
      "\u001b[34m\u001b[1mwandb\u001b[0m: \tfc_layer_size: 256\n",
      "\u001b[34m\u001b[1mwandb\u001b[0m: \tlayers: 2\n",
      "\u001b[34m\u001b[1mwandb\u001b[0m: \tlearning_rate: 0.01848425034577562\n",
      "\u001b[34m\u001b[1mwandb\u001b[0m: \tloss: MeanAbsoluteError\n",
      "\u001b[34m\u001b[1mwandb\u001b[0m: \toptimizer: sgd\n"
     ]
    },
    {
     "data": {
      "text/html": [
       "\n",
       "                Tracking run with wandb version 0.10.33<br/>\n",
       "                Syncing run <strong style=\"color:#cdcd00\">desert-sweep-2</strong> to <a href=\"https://wandb.ai\" target=\"_blank\">Weights & Biases</a> <a href=\"https://docs.wandb.com/integrations/jupyter.html\" target=\"_blank\">(Documentation)</a>.<br/>\n",
       "                Project page: <a href=\"https://wandb.ai/rhaas/params-finder-sweep\" target=\"_blank\">https://wandb.ai/rhaas/params-finder-sweep</a><br/>\n",
       "                Sweep page: <a href=\"https://wandb.ai/rhaas/params-finder-sweep/sweeps/6tloh19c\" target=\"_blank\">https://wandb.ai/rhaas/params-finder-sweep/sweeps/6tloh19c</a><br/>\n",
       "Run page: <a href=\"https://wandb.ai/rhaas/params-finder-sweep/runs/bf2ddvyt\" target=\"_blank\">https://wandb.ai/rhaas/params-finder-sweep/runs/bf2ddvyt</a><br/>\n",
       "                Run data is saved locally in <code>/home/robin/ML/cbm_ring_finder/wandb/run-20210715_151354-bf2ddvyt</code><br/><br/>\n",
       "            "
      ],
      "text/plain": [
       "<IPython.core.display.HTML object>"
      ]
     },
     "metadata": {},
     "output_type": "display_data"
    },
    {
     "name": "stdout",
     "output_type": "stream",
     "text": [
      "Epoch 1/10\n",
      "169/169 [==============================] - 1s 6ms/step - loss: 11.9071 - accuracy: 0.1801 - val_loss: 12.0127 - val_accuracy: 0.2510\n",
      "Epoch 2/10\n",
      "169/169 [==============================] - 1s 6ms/step - loss: 10.4130 - accuracy: 0.2258 - val_loss: 11.2957 - val_accuracy: 0.2625\n",
      "Epoch 3/10\n",
      "169/169 [==============================] - 1s 5ms/step - loss: 9.2261 - accuracy: 0.2849 - val_loss: 9.3769 - val_accuracy: 0.3255\n",
      "Epoch 4/10\n",
      "169/169 [==============================] - 1s 6ms/step - loss: 8.3058 - accuracy: 0.3196 - val_loss: 7.5435 - val_accuracy: 0.3455\n",
      "Epoch 5/10\n",
      "169/169 [==============================] - 1s 5ms/step - loss: 7.4475 - accuracy: 0.3339 - val_loss: 6.4746 - val_accuracy: 0.3475\n",
      "Epoch 6/10\n",
      "169/169 [==============================] - 1s 5ms/step - loss: 6.5847 - accuracy: 0.3397 - val_loss: 5.6566 - val_accuracy: 0.3492\n",
      "Epoch 7/10\n",
      "169/169 [==============================] - 1s 5ms/step - loss: 5.8431 - accuracy: 0.3532 - val_loss: 4.9624 - val_accuracy: 0.3483\n",
      "Epoch 8/10\n",
      "169/169 [==============================] - 1s 5ms/step - loss: 5.2825 - accuracy: 0.3465 - val_loss: 4.4764 - val_accuracy: 0.3600\n",
      "Epoch 9/10\n",
      "169/169 [==============================] - 1s 5ms/step - loss: 4.8211 - accuracy: 0.3523 - val_loss: 4.2160 - val_accuracy: 0.3778\n",
      "Epoch 10/10\n",
      "169/169 [==============================] - 1s 5ms/step - loss: 4.5483 - accuracy: 0.3594 - val_loss: 4.0462 - val_accuracy: 0.3787\n"
     ]
    },
    {
     "data": {
      "text/html": [
       "<br/>Waiting for W&B process to finish, PID 18405<br/>Program ended successfully."
      ],
      "text/plain": [
       "<IPython.core.display.HTML object>"
      ]
     },
     "metadata": {},
     "output_type": "display_data"
    },
    {
     "data": {
      "application/vnd.jupyter.widget-view+json": {
       "model_id": "",
       "version_major": 2,
       "version_minor": 0
      },
      "text/plain": [
       "VBox(children=(Label(value=' 1.06MB of 1.06MB uploaded (0.00MB deduped)\\r'), FloatProgress(value=1.0, max=1.0)…"
      ]
     },
     "metadata": {},
     "output_type": "display_data"
    },
    {
     "data": {
      "text/html": [
       "Find user logs for this run at: <code>/home/robin/ML/cbm_ring_finder/wandb/run-20210715_151354-bf2ddvyt/logs/debug.log</code>"
      ],
      "text/plain": [
       "<IPython.core.display.HTML object>"
      ]
     },
     "metadata": {},
     "output_type": "display_data"
    },
    {
     "data": {
      "text/html": [
       "Find internal logs for this run at: <code>/home/robin/ML/cbm_ring_finder/wandb/run-20210715_151354-bf2ddvyt/logs/debug-internal.log</code>"
      ],
      "text/plain": [
       "<IPython.core.display.HTML object>"
      ]
     },
     "metadata": {},
     "output_type": "display_data"
    },
    {
     "data": {
      "text/html": [
       "<h3>Run summary:</h3><br/><style>\n",
       "    table.wandb td:nth-child(1) { padding: 0 10px; text-align: right }\n",
       "    </style><table class=\"wandb\">\n",
       "<tr><td>epoch</td><td>9</td></tr><tr><td>loss</td><td>4.54833</td></tr><tr><td>accuracy</td><td>0.35938</td></tr><tr><td>val_loss</td><td>4.04622</td></tr><tr><td>val_accuracy</td><td>0.37875</td></tr><tr><td>_runtime</td><td>11</td></tr><tr><td>_timestamp</td><td>1626354846</td></tr><tr><td>_step</td><td>9</td></tr><tr><td>best_val_loss</td><td>4.04622</td></tr><tr><td>best_epoch</td><td>9</td></tr></table>"
      ],
      "text/plain": [
       "<IPython.core.display.HTML object>"
      ]
     },
     "metadata": {},
     "output_type": "display_data"
    },
    {
     "data": {
      "text/html": [
       "<h3>Run history:</h3><br/><style>\n",
       "    table.wandb td:nth-child(1) { padding: 0 10px; text-align: right }\n",
       "    </style><table class=\"wandb\">\n",
       "<tr><td>epoch</td><td>▁▂▃▃▄▅▆▆▇█</td></tr><tr><td>loss</td><td>█▇▅▅▄▃▂▂▁▁</td></tr><tr><td>accuracy</td><td>▁▃▅▆▇▇█▇██</td></tr><tr><td>val_loss</td><td>█▇▆▄▃▂▂▁▁▁</td></tr><tr><td>val_accuracy</td><td>▁▂▅▆▆▆▆▇██</td></tr><tr><td>_runtime</td><td>▁▂▂▃▄▅▅▆▇█</td></tr><tr><td>_timestamp</td><td>▁▂▂▃▄▅▅▆▇█</td></tr><tr><td>_step</td><td>▁▂▃▃▄▅▆▆▇█</td></tr></table><br/>"
      ],
      "text/plain": [
       "<IPython.core.display.HTML object>"
      ]
     },
     "metadata": {},
     "output_type": "display_data"
    },
    {
     "data": {
      "text/html": [
       "Synced 5 W&B file(s), 1 media file(s), 0 artifact file(s) and 1 other file(s)"
      ],
      "text/plain": [
       "<IPython.core.display.HTML object>"
      ]
     },
     "metadata": {},
     "output_type": "display_data"
    },
    {
     "data": {
      "text/html": [
       "\n",
       "                    <br/>Synced <strong style=\"color:#cdcd00\">desert-sweep-2</strong>: <a href=\"https://wandb.ai/rhaas/params-finder-sweep/runs/bf2ddvyt\" target=\"_blank\">https://wandb.ai/rhaas/params-finder-sweep/runs/bf2ddvyt</a><br/>\n",
       "                "
      ],
      "text/plain": [
       "<IPython.core.display.HTML object>"
      ]
     },
     "metadata": {},
     "output_type": "display_data"
    },
    {
     "name": "stderr",
     "output_type": "stream",
     "text": [
      "\u001b[34m\u001b[1mwandb\u001b[0m: Agent Starting Run: 9v4jzhsh with config:\n",
      "\u001b[34m\u001b[1mwandb\u001b[0m: \tbatch_size: 78\n",
      "\u001b[34m\u001b[1mwandb\u001b[0m: \tconv_layer_size: 16\n",
      "\u001b[34m\u001b[1mwandb\u001b[0m: \tdropout: 0.5\n",
      "\u001b[34m\u001b[1mwandb\u001b[0m: \tepochs: 10\n",
      "\u001b[34m\u001b[1mwandb\u001b[0m: \tfc_activation: sigmoid\n",
      "\u001b[34m\u001b[1mwandb\u001b[0m: \tfc_layer_size: 128\n",
      "\u001b[34m\u001b[1mwandb\u001b[0m: \tlayers: 2\n",
      "\u001b[34m\u001b[1mwandb\u001b[0m: \tlearning_rate: 0.0504253502448068\n",
      "\u001b[34m\u001b[1mwandb\u001b[0m: \tloss: MeanAbsoluteError\n",
      "\u001b[34m\u001b[1mwandb\u001b[0m: \toptimizer: sgd\n"
     ]
    },
    {
     "data": {
      "text/html": [
       "\n",
       "                Tracking run with wandb version 0.10.33<br/>\n",
       "                Syncing run <strong style=\"color:#cdcd00\">pious-sweep-3</strong> to <a href=\"https://wandb.ai\" target=\"_blank\">Weights & Biases</a> <a href=\"https://docs.wandb.com/integrations/jupyter.html\" target=\"_blank\">(Documentation)</a>.<br/>\n",
       "                Project page: <a href=\"https://wandb.ai/rhaas/params-finder-sweep\" target=\"_blank\">https://wandb.ai/rhaas/params-finder-sweep</a><br/>\n",
       "                Sweep page: <a href=\"https://wandb.ai/rhaas/params-finder-sweep/sweeps/6tloh19c\" target=\"_blank\">https://wandb.ai/rhaas/params-finder-sweep/sweeps/6tloh19c</a><br/>\n",
       "Run page: <a href=\"https://wandb.ai/rhaas/params-finder-sweep/runs/9v4jzhsh\" target=\"_blank\">https://wandb.ai/rhaas/params-finder-sweep/runs/9v4jzhsh</a><br/>\n",
       "                Run data is saved locally in <code>/home/robin/ML/cbm_ring_finder/wandb/run-20210715_151411-9v4jzhsh</code><br/><br/>\n",
       "            "
      ],
      "text/plain": [
       "<IPython.core.display.HTML object>"
      ]
     },
     "metadata": {},
     "output_type": "display_data"
    },
    {
     "name": "stdout",
     "output_type": "stream",
     "text": [
      "Epoch 1/10\n",
      "206/206 [==============================] - 1s 5ms/step - loss: 12.5902 - accuracy: 0.1685 - val_loss: 12.6441 - val_accuracy: 0.2503\n",
      "Epoch 2/10\n",
      "206/206 [==============================] - 1s 4ms/step - loss: 12.5702 - accuracy: 0.1734 - val_loss: 12.5969 - val_accuracy: 0.2475\n",
      "Epoch 3/10\n",
      "206/206 [==============================] - 1s 5ms/step - loss: 12.5465 - accuracy: 0.1713 - val_loss: 12.5412 - val_accuracy: 0.2348\n",
      "Epoch 4/10\n",
      "206/206 [==============================] - 1s 4ms/step - loss: 12.5217 - accuracy: 0.1721 - val_loss: 12.4965 - val_accuracy: 0.2290\n",
      "Epoch 5/10\n",
      "206/206 [==============================] - 1s 5ms/step - loss: 12.4923 - accuracy: 0.1731 - val_loss: 12.4543 - val_accuracy: 0.2313\n",
      "Epoch 6/10\n",
      "206/206 [==============================] - 1s 4ms/step - loss: 12.4653 - accuracy: 0.1705 - val_loss: 12.4087 - val_accuracy: 0.2315\n",
      "Epoch 7/10\n",
      "206/206 [==============================] - 1s 4ms/step - loss: 12.4316 - accuracy: 0.1729 - val_loss: 12.3663 - val_accuracy: 0.2335\n",
      "Epoch 8/10\n",
      "206/206 [==============================] - 1s 5ms/step - loss: 12.3988 - accuracy: 0.1676 - val_loss: 12.3238 - val_accuracy: 0.2330\n",
      "Epoch 9/10\n",
      "206/206 [==============================] - 1s 5ms/step - loss: 12.3632 - accuracy: 0.1726 - val_loss: 12.2818 - val_accuracy: 0.2365\n",
      "Epoch 10/10\n",
      "206/206 [==============================] - 1s 5ms/step - loss: 12.3308 - accuracy: 0.1723 - val_loss: 12.2425 - val_accuracy: 0.2387\n"
     ]
    },
    {
     "data": {
      "text/html": [
       "<br/>Waiting for W&B process to finish, PID 18508<br/>Program ended successfully."
      ],
      "text/plain": [
       "<IPython.core.display.HTML object>"
      ]
     },
     "metadata": {},
     "output_type": "display_data"
    },
    {
     "data": {
      "application/vnd.jupyter.widget-view+json": {
       "model_id": "",
       "version_major": 2,
       "version_minor": 0
      },
      "text/plain": [
       "VBox(children=(Label(value=' 0.56MB of 0.56MB uploaded (0.00MB deduped)\\r'), FloatProgress(value=1.0, max=1.0)…"
      ]
     },
     "metadata": {},
     "output_type": "display_data"
    },
    {
     "data": {
      "text/html": [
       "Find user logs for this run at: <code>/home/robin/ML/cbm_ring_finder/wandb/run-20210715_151411-9v4jzhsh/logs/debug.log</code>"
      ],
      "text/plain": [
       "<IPython.core.display.HTML object>"
      ]
     },
     "metadata": {},
     "output_type": "display_data"
    },
    {
     "data": {
      "text/html": [
       "Find internal logs for this run at: <code>/home/robin/ML/cbm_ring_finder/wandb/run-20210715_151411-9v4jzhsh/logs/debug-internal.log</code>"
      ],
      "text/plain": [
       "<IPython.core.display.HTML object>"
      ]
     },
     "metadata": {},
     "output_type": "display_data"
    },
    {
     "data": {
      "text/html": [
       "<h3>Run summary:</h3><br/><style>\n",
       "    table.wandb td:nth-child(1) { padding: 0 10px; text-align: right }\n",
       "    </style><table class=\"wandb\">\n",
       "<tr><td>epoch</td><td>9</td></tr><tr><td>loss</td><td>12.33081</td></tr><tr><td>accuracy</td><td>0.17231</td></tr><tr><td>val_loss</td><td>12.24245</td></tr><tr><td>val_accuracy</td><td>0.23875</td></tr><tr><td>_runtime</td><td>12</td></tr><tr><td>_timestamp</td><td>1626354863</td></tr><tr><td>_step</td><td>9</td></tr><tr><td>best_val_loss</td><td>12.24245</td></tr><tr><td>best_epoch</td><td>9</td></tr></table>"
      ],
      "text/plain": [
       "<IPython.core.display.HTML object>"
      ]
     },
     "metadata": {},
     "output_type": "display_data"
    },
    {
     "data": {
      "text/html": [
       "<h3>Run history:</h3><br/><style>\n",
       "    table.wandb td:nth-child(1) { padding: 0 10px; text-align: right }\n",
       "    </style><table class=\"wandb\">\n",
       "<tr><td>epoch</td><td>▁▂▃▃▄▅▆▆▇█</td></tr><tr><td>loss</td><td>█▇▇▆▅▅▄▃▂▁</td></tr><tr><td>accuracy</td><td>▂█▅▆█▄▇▁▇▇</td></tr><tr><td>val_loss</td><td>█▇▆▅▅▄▃▂▂▁</td></tr><tr><td>val_accuracy</td><td>█▇▃▁▂▂▂▂▃▄</td></tr><tr><td>_runtime</td><td>▁▂▃▃▄▅▆▆▇█</td></tr><tr><td>_timestamp</td><td>▁▂▃▃▄▅▆▆▇█</td></tr><tr><td>_step</td><td>▁▂▃▃▄▅▆▆▇█</td></tr></table><br/>"
      ],
      "text/plain": [
       "<IPython.core.display.HTML object>"
      ]
     },
     "metadata": {},
     "output_type": "display_data"
    },
    {
     "data": {
      "text/html": [
       "Synced 5 W&B file(s), 1 media file(s), 0 artifact file(s) and 1 other file(s)"
      ],
      "text/plain": [
       "<IPython.core.display.HTML object>"
      ]
     },
     "metadata": {},
     "output_type": "display_data"
    },
    {
     "data": {
      "text/html": [
       "\n",
       "                    <br/>Synced <strong style=\"color:#cdcd00\">pious-sweep-3</strong>: <a href=\"https://wandb.ai/rhaas/params-finder-sweep/runs/9v4jzhsh\" target=\"_blank\">https://wandb.ai/rhaas/params-finder-sweep/runs/9v4jzhsh</a><br/>\n",
       "                "
      ],
      "text/plain": [
       "<IPython.core.display.HTML object>"
      ]
     },
     "metadata": {},
     "output_type": "display_data"
    },
    {
     "name": "stderr",
     "output_type": "stream",
     "text": [
      "\u001b[34m\u001b[1mwandb\u001b[0m: Agent Starting Run: jvysrumf with config:\n",
      "\u001b[34m\u001b[1mwandb\u001b[0m: \tbatch_size: 113\n",
      "\u001b[34m\u001b[1mwandb\u001b[0m: \tconv_layer_size: 16\n",
      "\u001b[34m\u001b[1mwandb\u001b[0m: \tdropout: 0.4\n",
      "\u001b[34m\u001b[1mwandb\u001b[0m: \tepochs: 10\n",
      "\u001b[34m\u001b[1mwandb\u001b[0m: \tfc_activation: relu\n",
      "\u001b[34m\u001b[1mwandb\u001b[0m: \tfc_layer_size: 128\n",
      "\u001b[34m\u001b[1mwandb\u001b[0m: \tlayers: 4\n",
      "\u001b[34m\u001b[1mwandb\u001b[0m: \tlearning_rate: 0.0541037473723525\n",
      "\u001b[34m\u001b[1mwandb\u001b[0m: \tloss: MeanAbsoluteError\n",
      "\u001b[34m\u001b[1mwandb\u001b[0m: \toptimizer: sgd\n"
     ]
    },
    {
     "data": {
      "text/html": [
       "\n",
       "                Tracking run with wandb version 0.10.33<br/>\n",
       "                Syncing run <strong style=\"color:#cdcd00\">volcanic-sweep-4</strong> to <a href=\"https://wandb.ai\" target=\"_blank\">Weights & Biases</a> <a href=\"https://docs.wandb.com/integrations/jupyter.html\" target=\"_blank\">(Documentation)</a>.<br/>\n",
       "                Project page: <a href=\"https://wandb.ai/rhaas/params-finder-sweep\" target=\"_blank\">https://wandb.ai/rhaas/params-finder-sweep</a><br/>\n",
       "                Sweep page: <a href=\"https://wandb.ai/rhaas/params-finder-sweep/sweeps/6tloh19c\" target=\"_blank\">https://wandb.ai/rhaas/params-finder-sweep/sweeps/6tloh19c</a><br/>\n",
       "Run page: <a href=\"https://wandb.ai/rhaas/params-finder-sweep/runs/jvysrumf\" target=\"_blank\">https://wandb.ai/rhaas/params-finder-sweep/runs/jvysrumf</a><br/>\n",
       "                Run data is saved locally in <code>/home/robin/ML/cbm_ring_finder/wandb/run-20210715_151428-jvysrumf</code><br/><br/>\n",
       "            "
      ],
      "text/plain": [
       "<IPython.core.display.HTML object>"
      ]
     },
     "metadata": {},
     "output_type": "display_data"
    },
    {
     "name": "stdout",
     "output_type": "stream",
     "text": [
      "Epoch 1/10\n",
      "142/142 [==============================] - 2s 8ms/step - loss: 12.2120 - accuracy: 0.1789 - val_loss: 11.9721 - val_accuracy: 0.2603\n",
      "Epoch 2/10\n",
      "142/142 [==============================] - 1s 6ms/step - loss: 11.7057 - accuracy: 0.1798 - val_loss: 11.5552 - val_accuracy: 0.2603\n",
      "Epoch 3/10\n",
      "142/142 [==============================] - 1s 6ms/step - loss: 10.7424 - accuracy: 0.1947 - val_loss: 11.7484 - val_accuracy: 0.3248\n",
      "Epoch 4/10\n",
      "142/142 [==============================] - 1s 7ms/step - loss: 8.9630 - accuracy: 0.2445 - val_loss: 10.3411 - val_accuracy: 0.3445\n",
      "Epoch 5/10\n",
      "142/142 [==============================] - 1s 7ms/step - loss: 6.7705 - accuracy: 0.3139 - val_loss: 6.2776 - val_accuracy: 0.3553\n",
      "Epoch 6/10\n",
      "142/142 [==============================] - 1s 6ms/step - loss: 5.4646 - accuracy: 0.3332 - val_loss: 5.3695 - val_accuracy: 0.3655\n",
      "Epoch 7/10\n",
      "142/142 [==============================] - 1s 6ms/step - loss: 4.9343 - accuracy: 0.3507 - val_loss: 5.1391 - val_accuracy: 0.3580\n",
      "Epoch 8/10\n",
      "142/142 [==============================] - 1s 6ms/step - loss: 4.7452 - accuracy: 0.3579 - val_loss: 4.3033 - val_accuracy: 0.3713\n",
      "Epoch 9/10\n",
      "142/142 [==============================] - 1s 6ms/step - loss: 4.6502 - accuracy: 0.3668 - val_loss: 4.2883 - val_accuracy: 0.3700\n",
      "Epoch 10/10\n",
      "142/142 [==============================] - 1s 6ms/step - loss: 4.5823 - accuracy: 0.3685 - val_loss: 4.1630 - val_accuracy: 0.3808\n"
     ]
    },
    {
     "data": {
      "text/html": [
       "<br/>Waiting for W&B process to finish, PID 18605<br/>Program ended successfully."
      ],
      "text/plain": [
       "<IPython.core.display.HTML object>"
      ]
     },
     "metadata": {},
     "output_type": "display_data"
    },
    {
     "data": {
      "application/vnd.jupyter.widget-view+json": {
       "model_id": "",
       "version_major": 2,
       "version_minor": 0
      },
      "text/plain": [
       "VBox(children=(Label(value=' 0.13MB of 0.13MB uploaded (0.00MB deduped)\\r'), FloatProgress(value=1.0, max=1.0)…"
      ]
     },
     "metadata": {},
     "output_type": "display_data"
    },
    {
     "data": {
      "text/html": [
       "Find user logs for this run at: <code>/home/robin/ML/cbm_ring_finder/wandb/run-20210715_151428-jvysrumf/logs/debug.log</code>"
      ],
      "text/plain": [
       "<IPython.core.display.HTML object>"
      ]
     },
     "metadata": {},
     "output_type": "display_data"
    },
    {
     "data": {
      "text/html": [
       "Find internal logs for this run at: <code>/home/robin/ML/cbm_ring_finder/wandb/run-20210715_151428-jvysrumf/logs/debug-internal.log</code>"
      ],
      "text/plain": [
       "<IPython.core.display.HTML object>"
      ]
     },
     "metadata": {},
     "output_type": "display_data"
    },
    {
     "data": {
      "text/html": [
       "<h3>Run summary:</h3><br/><style>\n",
       "    table.wandb td:nth-child(1) { padding: 0 10px; text-align: right }\n",
       "    </style><table class=\"wandb\">\n",
       "<tr><td>epoch</td><td>9</td></tr><tr><td>loss</td><td>4.58232</td></tr><tr><td>accuracy</td><td>0.3685</td></tr><tr><td>val_loss</td><td>4.16302</td></tr><tr><td>val_accuracy</td><td>0.38075</td></tr><tr><td>_runtime</td><td>12</td></tr><tr><td>_timestamp</td><td>1626354880</td></tr><tr><td>_step</td><td>9</td></tr><tr><td>best_val_loss</td><td>4.16302</td></tr><tr><td>best_epoch</td><td>9</td></tr></table>"
      ],
      "text/plain": [
       "<IPython.core.display.HTML object>"
      ]
     },
     "metadata": {},
     "output_type": "display_data"
    },
    {
     "data": {
      "text/html": [
       "<h3>Run history:</h3><br/><style>\n",
       "    table.wandb td:nth-child(1) { padding: 0 10px; text-align: right }\n",
       "    </style><table class=\"wandb\">\n",
       "<tr><td>epoch</td><td>▁▂▃▃▄▅▆▆▇█</td></tr><tr><td>loss</td><td>██▇▅▃▂▁▁▁▁</td></tr><tr><td>accuracy</td><td>▁▁▂▃▆▇▇███</td></tr><tr><td>val_loss</td><td>███▇▃▂▂▁▁▁</td></tr><tr><td>val_accuracy</td><td>▁▁▅▆▇▇▇▇▇█</td></tr><tr><td>_runtime</td><td>▁▂▂▃▄▅▅▆▇█</td></tr><tr><td>_timestamp</td><td>▁▂▂▃▄▅▅▆▇█</td></tr><tr><td>_step</td><td>▁▂▃▃▄▅▆▆▇█</td></tr></table><br/>"
      ],
      "text/plain": [
       "<IPython.core.display.HTML object>"
      ]
     },
     "metadata": {},
     "output_type": "display_data"
    },
    {
     "data": {
      "text/html": [
       "Synced 5 W&B file(s), 1 media file(s), 0 artifact file(s) and 1 other file(s)"
      ],
      "text/plain": [
       "<IPython.core.display.HTML object>"
      ]
     },
     "metadata": {},
     "output_type": "display_data"
    },
    {
     "data": {
      "text/html": [
       "\n",
       "                    <br/>Synced <strong style=\"color:#cdcd00\">volcanic-sweep-4</strong>: <a href=\"https://wandb.ai/rhaas/params-finder-sweep/runs/jvysrumf\" target=\"_blank\">https://wandb.ai/rhaas/params-finder-sweep/runs/jvysrumf</a><br/>\n",
       "                "
      ],
      "text/plain": [
       "<IPython.core.display.HTML object>"
      ]
     },
     "metadata": {},
     "output_type": "display_data"
    },
    {
     "name": "stderr",
     "output_type": "stream",
     "text": [
      "\u001b[34m\u001b[1mwandb\u001b[0m: Agent Starting Run: zubjdlg4 with config:\n",
      "\u001b[34m\u001b[1mwandb\u001b[0m: \tbatch_size: 248\n",
      "\u001b[34m\u001b[1mwandb\u001b[0m: \tconv_layer_size: 16\n",
      "\u001b[34m\u001b[1mwandb\u001b[0m: \tdropout: 0.5\n",
      "\u001b[34m\u001b[1mwandb\u001b[0m: \tepochs: 10\n",
      "\u001b[34m\u001b[1mwandb\u001b[0m: \tfc_activation: relu\n",
      "\u001b[34m\u001b[1mwandb\u001b[0m: \tfc_layer_size: 128\n",
      "\u001b[34m\u001b[1mwandb\u001b[0m: \tlayers: 3\n",
      "\u001b[34m\u001b[1mwandb\u001b[0m: \tlearning_rate: 0.033149795352003776\n",
      "\u001b[34m\u001b[1mwandb\u001b[0m: \tloss: MeanAbsoluteError\n",
      "\u001b[34m\u001b[1mwandb\u001b[0m: \toptimizer: adam\n"
     ]
    },
    {
     "data": {
      "text/html": [
       "\n",
       "                Tracking run with wandb version 0.10.33<br/>\n",
       "                Syncing run <strong style=\"color:#cdcd00\">denim-sweep-5</strong> to <a href=\"https://wandb.ai\" target=\"_blank\">Weights & Biases</a> <a href=\"https://docs.wandb.com/integrations/jupyter.html\" target=\"_blank\">(Documentation)</a>.<br/>\n",
       "                Project page: <a href=\"https://wandb.ai/rhaas/params-finder-sweep\" target=\"_blank\">https://wandb.ai/rhaas/params-finder-sweep</a><br/>\n",
       "                Sweep page: <a href=\"https://wandb.ai/rhaas/params-finder-sweep/sweeps/6tloh19c\" target=\"_blank\">https://wandb.ai/rhaas/params-finder-sweep/sweeps/6tloh19c</a><br/>\n",
       "Run page: <a href=\"https://wandb.ai/rhaas/params-finder-sweep/runs/zubjdlg4\" target=\"_blank\">https://wandb.ai/rhaas/params-finder-sweep/runs/zubjdlg4</a><br/>\n",
       "                Run data is saved locally in <code>/home/robin/ML/cbm_ring_finder/wandb/run-20210715_151445-zubjdlg4</code><br/><br/>\n",
       "            "
      ],
      "text/plain": [
       "<IPython.core.display.HTML object>"
      ]
     },
     "metadata": {},
     "output_type": "display_data"
    },
    {
     "name": "stdout",
     "output_type": "stream",
     "text": [
      "Epoch 1/10\n",
      "65/65 [==============================] - 1s 14ms/step - loss: 11.2697 - accuracy: 0.1706 - val_loss: 12.1116 - val_accuracy: 0.0015\n",
      "Epoch 2/10\n",
      "65/65 [==============================] - 1s 10ms/step - loss: 8.9473 - accuracy: 0.2359 - val_loss: 11.9038 - val_accuracy: 0.0015\n",
      "Epoch 3/10\n",
      "65/65 [==============================] - 1s 10ms/step - loss: 7.3114 - accuracy: 0.2848 - val_loss: 13.0938 - val_accuracy: 0.2603\n",
      "Epoch 4/10\n",
      "65/65 [==============================] - 1s 11ms/step - loss: 6.1191 - accuracy: 0.3105 - val_loss: 13.0938 - val_accuracy: 0.2603\n",
      "Epoch 5/10\n",
      "65/65 [==============================] - 1s 12ms/step - loss: 5.1904 - accuracy: 0.3460 - val_loss: 13.0938 - val_accuracy: 0.2603\n",
      "Epoch 6/10\n",
      "65/65 [==============================] - 1s 10ms/step - loss: 4.5134 - accuracy: 0.3567 - val_loss: 13.0923 - val_accuracy: 0.2595\n",
      "Epoch 7/10\n",
      "65/65 [==============================] - 1s 12ms/step - loss: 4.2561 - accuracy: 0.3551 - val_loss: 11.6789 - val_accuracy: 0.2418\n",
      "Epoch 8/10\n",
      "65/65 [==============================] - 1s 11ms/step - loss: 4.1677 - accuracy: 0.3647 - val_loss: 6.2119 - val_accuracy: 0.3240\n",
      "Epoch 9/10\n",
      "65/65 [==============================] - 1s 10ms/step - loss: 4.1456 - accuracy: 0.3623 - val_loss: 5.0699 - val_accuracy: 0.3445\n",
      "Epoch 10/10\n",
      "65/65 [==============================] - 1s 10ms/step - loss: 4.0949 - accuracy: 0.3622 - val_loss: 4.8157 - val_accuracy: 0.3470\n"
     ]
    },
    {
     "data": {
      "text/html": [
       "<br/>Waiting for W&B process to finish, PID 18709<br/>Program ended successfully."
      ],
      "text/plain": [
       "<IPython.core.display.HTML object>"
      ]
     },
     "metadata": {},
     "output_type": "display_data"
    },
    {
     "data": {
      "application/vnd.jupyter.widget-view+json": {
       "model_id": "",
       "version_major": 2,
       "version_minor": 0
      },
      "text/plain": [
       "VBox(children=(Label(value=' 0.54MB of 0.54MB uploaded (0.00MB deduped)\\r'), FloatProgress(value=1.0, max=1.0)…"
      ]
     },
     "metadata": {},
     "output_type": "display_data"
    },
    {
     "data": {
      "text/html": [
       "Find user logs for this run at: <code>/home/robin/ML/cbm_ring_finder/wandb/run-20210715_151445-zubjdlg4/logs/debug.log</code>"
      ],
      "text/plain": [
       "<IPython.core.display.HTML object>"
      ]
     },
     "metadata": {},
     "output_type": "display_data"
    },
    {
     "data": {
      "text/html": [
       "Find internal logs for this run at: <code>/home/robin/ML/cbm_ring_finder/wandb/run-20210715_151445-zubjdlg4/logs/debug-internal.log</code>"
      ],
      "text/plain": [
       "<IPython.core.display.HTML object>"
      ]
     },
     "metadata": {},
     "output_type": "display_data"
    },
    {
     "data": {
      "text/html": [
       "<h3>Run summary:</h3><br/><style>\n",
       "    table.wandb td:nth-child(1) { padding: 0 10px; text-align: right }\n",
       "    </style><table class=\"wandb\">\n",
       "<tr><td>epoch</td><td>9</td></tr><tr><td>loss</td><td>4.09486</td></tr><tr><td>accuracy</td><td>0.36219</td></tr><tr><td>val_loss</td><td>4.81574</td></tr><tr><td>val_accuracy</td><td>0.347</td></tr><tr><td>_runtime</td><td>10</td></tr><tr><td>_timestamp</td><td>1626354895</td></tr><tr><td>_step</td><td>9</td></tr><tr><td>best_val_loss</td><td>4.81574</td></tr><tr><td>best_epoch</td><td>9</td></tr></table>"
      ],
      "text/plain": [
       "<IPython.core.display.HTML object>"
      ]
     },
     "metadata": {},
     "output_type": "display_data"
    },
    {
     "data": {
      "text/html": [
       "<h3>Run history:</h3><br/><style>\n",
       "    table.wandb td:nth-child(1) { padding: 0 10px; text-align: right }\n",
       "    </style><table class=\"wandb\">\n",
       "<tr><td>epoch</td><td>▁▂▃▃▄▅▆▆▇█</td></tr><tr><td>loss</td><td>█▆▄▃▂▁▁▁▁▁</td></tr><tr><td>accuracy</td><td>▁▃▅▆▇█████</td></tr><tr><td>val_loss</td><td>▇▇████▇▂▁▁</td></tr><tr><td>val_accuracy</td><td>▁▁▆▆▆▆▆███</td></tr><tr><td>_runtime</td><td>▁▁▂▃▃▅▆▇▇█</td></tr><tr><td>_timestamp</td><td>▁▁▂▃▃▅▆▇▇█</td></tr><tr><td>_step</td><td>▁▂▃▃▄▅▆▆▇█</td></tr></table><br/>"
      ],
      "text/plain": [
       "<IPython.core.display.HTML object>"
      ]
     },
     "metadata": {},
     "output_type": "display_data"
    },
    {
     "data": {
      "text/html": [
       "Synced 5 W&B file(s), 1 media file(s), 0 artifact file(s) and 1 other file(s)"
      ],
      "text/plain": [
       "<IPython.core.display.HTML object>"
      ]
     },
     "metadata": {},
     "output_type": "display_data"
    },
    {
     "data": {
      "text/html": [
       "\n",
       "                    <br/>Synced <strong style=\"color:#cdcd00\">denim-sweep-5</strong>: <a href=\"https://wandb.ai/rhaas/params-finder-sweep/runs/zubjdlg4\" target=\"_blank\">https://wandb.ai/rhaas/params-finder-sweep/runs/zubjdlg4</a><br/>\n",
       "                "
      ],
      "text/plain": [
       "<IPython.core.display.HTML object>"
      ]
     },
     "metadata": {},
     "output_type": "display_data"
    },
    {
     "name": "stderr",
     "output_type": "stream",
     "text": [
      "\u001b[34m\u001b[1mwandb\u001b[0m: Agent Starting Run: qypqpk7z with config:\n",
      "\u001b[34m\u001b[1mwandb\u001b[0m: \tbatch_size: 61\n",
      "\u001b[34m\u001b[1mwandb\u001b[0m: \tconv_layer_size: 32\n",
      "\u001b[34m\u001b[1mwandb\u001b[0m: \tdropout: 0.5\n",
      "\u001b[34m\u001b[1mwandb\u001b[0m: \tepochs: 10\n",
      "\u001b[34m\u001b[1mwandb\u001b[0m: \tfc_activation: relu\n",
      "\u001b[34m\u001b[1mwandb\u001b[0m: \tfc_layer_size: 512\n",
      "\u001b[34m\u001b[1mwandb\u001b[0m: \tlayers: 2\n",
      "\u001b[34m\u001b[1mwandb\u001b[0m: \tlearning_rate: 0.06616587397754012\n",
      "\u001b[34m\u001b[1mwandb\u001b[0m: \tloss: MeanAbsoluteError\n",
      "\u001b[34m\u001b[1mwandb\u001b[0m: \toptimizer: sgd\n"
     ]
    },
    {
     "data": {
      "text/html": [
       "\n",
       "                Tracking run with wandb version 0.10.33<br/>\n",
       "                Syncing run <strong style=\"color:#cdcd00\">royal-sweep-6</strong> to <a href=\"https://wandb.ai\" target=\"_blank\">Weights & Biases</a> <a href=\"https://docs.wandb.com/integrations/jupyter.html\" target=\"_blank\">(Documentation)</a>.<br/>\n",
       "                Project page: <a href=\"https://wandb.ai/rhaas/params-finder-sweep\" target=\"_blank\">https://wandb.ai/rhaas/params-finder-sweep</a><br/>\n",
       "                Sweep page: <a href=\"https://wandb.ai/rhaas/params-finder-sweep/sweeps/6tloh19c\" target=\"_blank\">https://wandb.ai/rhaas/params-finder-sweep/sweeps/6tloh19c</a><br/>\n",
       "Run page: <a href=\"https://wandb.ai/rhaas/params-finder-sweep/runs/qypqpk7z\" target=\"_blank\">https://wandb.ai/rhaas/params-finder-sweep/runs/qypqpk7z</a><br/>\n",
       "                Run data is saved locally in <code>/home/robin/ML/cbm_ring_finder/wandb/run-20210715_151501-qypqpk7z</code><br/><br/>\n",
       "            "
      ],
      "text/plain": [
       "<IPython.core.display.HTML object>"
      ]
     },
     "metadata": {},
     "output_type": "display_data"
    },
    {
     "name": "stdout",
     "output_type": "stream",
     "text": [
      "Epoch 1/10\n",
      "263/263 [==============================] - 2s 7ms/step - loss: 10.7827 - accuracy: 0.2730 - val_loss: 11.2719 - val_accuracy: 0.0798\n",
      "Epoch 2/10\n",
      "263/263 [==============================] - 2s 6ms/step - loss: 8.2799 - accuracy: 0.3327 - val_loss: 8.3258 - val_accuracy: 0.2503\n",
      "Epoch 3/10\n",
      "263/263 [==============================] - 2s 6ms/step - loss: 7.0965 - accuracy: 0.3240 - val_loss: 6.1475 - val_accuracy: 0.3150\n",
      "Epoch 4/10\n",
      "263/263 [==============================] - 1s 6ms/step - loss: 6.2061 - accuracy: 0.3306 - val_loss: 5.3835 - val_accuracy: 0.3465\n",
      "Epoch 5/10\n",
      "263/263 [==============================] - 2s 6ms/step - loss: 5.6417 - accuracy: 0.3352 - val_loss: 4.8912 - val_accuracy: 0.3543\n",
      "Epoch 6/10\n",
      "263/263 [==============================] - 2s 6ms/step - loss: 5.1997 - accuracy: 0.3442 - val_loss: 4.5878 - val_accuracy: 0.3670\n",
      "Epoch 7/10\n",
      "263/263 [==============================] - 1s 6ms/step - loss: 4.8382 - accuracy: 0.3499 - val_loss: 4.2350 - val_accuracy: 0.3700\n",
      "Epoch 8/10\n",
      "263/263 [==============================] - 2s 6ms/step - loss: 4.6230 - accuracy: 0.3595 - val_loss: 4.0778 - val_accuracy: 0.3842\n",
      "Epoch 9/10\n",
      "263/263 [==============================] - 2s 6ms/step - loss: 4.4400 - accuracy: 0.3616 - val_loss: 4.0154 - val_accuracy: 0.3877\n",
      "Epoch 10/10\n",
      "263/263 [==============================] - 1s 6ms/step - loss: 4.1914 - accuracy: 0.3778 - val_loss: 4.2699 - val_accuracy: 0.3873\n"
     ]
    },
    {
     "data": {
      "text/html": [
       "<br/>Waiting for W&B process to finish, PID 18804<br/>Program ended successfully."
      ],
      "text/plain": [
       "<IPython.core.display.HTML object>"
      ]
     },
     "metadata": {},
     "output_type": "display_data"
    },
    {
     "data": {
      "application/vnd.jupyter.widget-view+json": {
       "model_id": "",
       "version_major": 2,
       "version_minor": 0
      },
      "text/plain": [
       "VBox(children=(Label(value=' 4.10MB of 4.10MB uploaded (0.00MB deduped)\\r'), FloatProgress(value=1.0, max=1.0)…"
      ]
     },
     "metadata": {},
     "output_type": "display_data"
    },
    {
     "data": {
      "text/html": [
       "Find user logs for this run at: <code>/home/robin/ML/cbm_ring_finder/wandb/run-20210715_151501-qypqpk7z/logs/debug.log</code>"
      ],
      "text/plain": [
       "<IPython.core.display.HTML object>"
      ]
     },
     "metadata": {},
     "output_type": "display_data"
    },
    {
     "data": {
      "text/html": [
       "Find internal logs for this run at: <code>/home/robin/ML/cbm_ring_finder/wandb/run-20210715_151501-qypqpk7z/logs/debug-internal.log</code>"
      ],
      "text/plain": [
       "<IPython.core.display.HTML object>"
      ]
     },
     "metadata": {},
     "output_type": "display_data"
    },
    {
     "data": {
      "text/html": [
       "<h3>Run summary:</h3><br/><style>\n",
       "    table.wandb td:nth-child(1) { padding: 0 10px; text-align: right }\n",
       "    </style><table class=\"wandb\">\n",
       "<tr><td>epoch</td><td>9</td></tr><tr><td>loss</td><td>4.19135</td></tr><tr><td>accuracy</td><td>0.37781</td></tr><tr><td>val_loss</td><td>4.26994</td></tr><tr><td>val_accuracy</td><td>0.38725</td></tr><tr><td>_runtime</td><td>17</td></tr><tr><td>_timestamp</td><td>1626354918</td></tr><tr><td>_step</td><td>9</td></tr><tr><td>best_val_loss</td><td>4.01542</td></tr><tr><td>best_epoch</td><td>8</td></tr></table>"
      ],
      "text/plain": [
       "<IPython.core.display.HTML object>"
      ]
     },
     "metadata": {},
     "output_type": "display_data"
    },
    {
     "data": {
      "text/html": [
       "<h3>Run history:</h3><br/><style>\n",
       "    table.wandb td:nth-child(1) { padding: 0 10px; text-align: right }\n",
       "    </style><table class=\"wandb\">\n",
       "<tr><td>epoch</td><td>▁▂▃▃▄▅▆▆▇█</td></tr><tr><td>loss</td><td>█▅▄▃▃▂▂▁▁▁</td></tr><tr><td>accuracy</td><td>▁▅▄▅▅▆▆▇▇█</td></tr><tr><td>val_loss</td><td>█▅▃▂▂▂▁▁▁▁</td></tr><tr><td>val_accuracy</td><td>▁▅▆▇▇█████</td></tr><tr><td>_runtime</td><td>▁▂▃▃▅▅▆▇▇█</td></tr><tr><td>_timestamp</td><td>▁▂▃▃▅▅▆▇▇█</td></tr><tr><td>_step</td><td>▁▂▃▃▄▅▆▆▇█</td></tr></table><br/>"
      ],
      "text/plain": [
       "<IPython.core.display.HTML object>"
      ]
     },
     "metadata": {},
     "output_type": "display_data"
    },
    {
     "data": {
      "text/html": [
       "Synced 5 W&B file(s), 1 media file(s), 0 artifact file(s) and 1 other file(s)"
      ],
      "text/plain": [
       "<IPython.core.display.HTML object>"
      ]
     },
     "metadata": {},
     "output_type": "display_data"
    },
    {
     "data": {
      "text/html": [
       "\n",
       "                    <br/>Synced <strong style=\"color:#cdcd00\">royal-sweep-6</strong>: <a href=\"https://wandb.ai/rhaas/params-finder-sweep/runs/qypqpk7z\" target=\"_blank\">https://wandb.ai/rhaas/params-finder-sweep/runs/qypqpk7z</a><br/>\n",
       "                "
      ],
      "text/plain": [
       "<IPython.core.display.HTML object>"
      ]
     },
     "metadata": {},
     "output_type": "display_data"
    },
    {
     "name": "stderr",
     "output_type": "stream",
     "text": [
      "\u001b[34m\u001b[1mwandb\u001b[0m: Agent Starting Run: kio30lwq with config:\n",
      "\u001b[34m\u001b[1mwandb\u001b[0m: \tbatch_size: 52\n",
      "\u001b[34m\u001b[1mwandb\u001b[0m: \tconv_layer_size: 32\n",
      "\u001b[34m\u001b[1mwandb\u001b[0m: \tdropout: 0.5\n",
      "\u001b[34m\u001b[1mwandb\u001b[0m: \tepochs: 10\n",
      "\u001b[34m\u001b[1mwandb\u001b[0m: \tfc_activation: sigmoid\n",
      "\u001b[34m\u001b[1mwandb\u001b[0m: \tfc_layer_size: 128\n",
      "\u001b[34m\u001b[1mwandb\u001b[0m: \tlayers: 3\n",
      "\u001b[34m\u001b[1mwandb\u001b[0m: \tlearning_rate: 0.07509538786196303\n",
      "\u001b[34m\u001b[1mwandb\u001b[0m: \tloss: MeanAbsoluteError\n",
      "\u001b[34m\u001b[1mwandb\u001b[0m: \toptimizer: adam\n"
     ]
    },
    {
     "data": {
      "text/html": [
       "\n",
       "                Tracking run with wandb version 0.10.33<br/>\n",
       "                Syncing run <strong style=\"color:#cdcd00\">cerulean-sweep-7</strong> to <a href=\"https://wandb.ai\" target=\"_blank\">Weights & Biases</a> <a href=\"https://docs.wandb.com/integrations/jupyter.html\" target=\"_blank\">(Documentation)</a>.<br/>\n",
       "                Project page: <a href=\"https://wandb.ai/rhaas/params-finder-sweep\" target=\"_blank\">https://wandb.ai/rhaas/params-finder-sweep</a><br/>\n",
       "                Sweep page: <a href=\"https://wandb.ai/rhaas/params-finder-sweep/sweeps/6tloh19c\" target=\"_blank\">https://wandb.ai/rhaas/params-finder-sweep/sweeps/6tloh19c</a><br/>\n",
       "Run page: <a href=\"https://wandb.ai/rhaas/params-finder-sweep/runs/kio30lwq\" target=\"_blank\">https://wandb.ai/rhaas/params-finder-sweep/runs/kio30lwq</a><br/>\n",
       "                Run data is saved locally in <code>/home/robin/ML/cbm_ring_finder/wandb/run-20210715_151524-kio30lwq</code><br/><br/>\n",
       "            "
      ],
      "text/plain": [
       "<IPython.core.display.HTML object>"
      ]
     },
     "metadata": {},
     "output_type": "display_data"
    },
    {
     "name": "stdout",
     "output_type": "stream",
     "text": [
      "Epoch 1/10\n",
      "308/308 [==============================] - 2s 6ms/step - loss: 12.3399 - accuracy: 0.1639 - val_loss: 12.1049 - val_accuracy: 0.2387\n",
      "Epoch 2/10\n",
      "308/308 [==============================] - 2s 6ms/step - loss: 12.1116 - accuracy: 0.1588 - val_loss: 12.1171 - val_accuracy: 0.2167\n",
      "Epoch 3/10\n",
      "308/308 [==============================] - 2s 5ms/step - loss: 12.1053 - accuracy: 0.1656 - val_loss: 12.0976 - val_accuracy: 0.2247\n",
      "Epoch 4/10\n",
      "308/308 [==============================] - 2s 5ms/step - loss: 12.1043 - accuracy: 0.1659 - val_loss: 12.0973 - val_accuracy: 0.2195\n",
      "Epoch 5/10\n",
      "308/308 [==============================] - 2s 6ms/step - loss: 12.1039 - accuracy: 0.1612 - val_loss: 12.0967 - val_accuracy: 0.2100\n",
      "Epoch 6/10\n",
      "308/308 [==============================] - 2s 6ms/step - loss: 12.1037 - accuracy: 0.1575 - val_loss: 12.0968 - val_accuracy: 0.2253\n",
      "Epoch 7/10\n",
      "308/308 [==============================] - 2s 6ms/step - loss: 12.1036 - accuracy: 0.1646 - val_loss: 12.0959 - val_accuracy: 0.2200\n",
      "Epoch 8/10\n",
      "308/308 [==============================] - 2s 6ms/step - loss: 12.1036 - accuracy: 0.1595 - val_loss: 12.0958 - val_accuracy: 0.2113\n",
      "Epoch 9/10\n",
      "308/308 [==============================] - 2s 6ms/step - loss: 12.1035 - accuracy: 0.1581 - val_loss: 12.0958 - val_accuracy: 0.2110\n",
      "Epoch 10/10\n",
      "308/308 [==============================] - 2s 5ms/step - loss: 12.1035 - accuracy: 0.1604 - val_loss: 12.0956 - val_accuracy: 0.2148\n"
     ]
    },
    {
     "data": {
      "text/html": [
       "<br/>Waiting for W&B process to finish, PID 18952<br/>Program ended successfully."
      ],
      "text/plain": [
       "<IPython.core.display.HTML object>"
      ]
     },
     "metadata": {},
     "output_type": "display_data"
    },
    {
     "data": {
      "application/vnd.jupyter.widget-view+json": {
       "model_id": "",
       "version_major": 2,
       "version_minor": 0
      },
      "text/plain": [
       "VBox(children=(Label(value=' 1.08MB of 1.08MB uploaded (0.00MB deduped)\\r'), FloatProgress(value=1.0, max=1.0)…"
      ]
     },
     "metadata": {},
     "output_type": "display_data"
    },
    {
     "data": {
      "text/html": [
       "Find user logs for this run at: <code>/home/robin/ML/cbm_ring_finder/wandb/run-20210715_151524-kio30lwq/logs/debug.log</code>"
      ],
      "text/plain": [
       "<IPython.core.display.HTML object>"
      ]
     },
     "metadata": {},
     "output_type": "display_data"
    },
    {
     "data": {
      "text/html": [
       "Find internal logs for this run at: <code>/home/robin/ML/cbm_ring_finder/wandb/run-20210715_151524-kio30lwq/logs/debug-internal.log</code>"
      ],
      "text/plain": [
       "<IPython.core.display.HTML object>"
      ]
     },
     "metadata": {},
     "output_type": "display_data"
    },
    {
     "data": {
      "text/html": [
       "<h3>Run summary:</h3><br/><style>\n",
       "    table.wandb td:nth-child(1) { padding: 0 10px; text-align: right }\n",
       "    </style><table class=\"wandb\">\n",
       "<tr><td>epoch</td><td>9</td></tr><tr><td>loss</td><td>12.10348</td></tr><tr><td>accuracy</td><td>0.16044</td></tr><tr><td>val_loss</td><td>12.09564</td></tr><tr><td>val_accuracy</td><td>0.21475</td></tr><tr><td>_runtime</td><td>20</td></tr><tr><td>_timestamp</td><td>1626354944</td></tr><tr><td>_step</td><td>9</td></tr><tr><td>best_val_loss</td><td>12.09564</td></tr><tr><td>best_epoch</td><td>9</td></tr></table>"
      ],
      "text/plain": [
       "<IPython.core.display.HTML object>"
      ]
     },
     "metadata": {},
     "output_type": "display_data"
    },
    {
     "data": {
      "text/html": [
       "<h3>Run history:</h3><br/><style>\n",
       "    table.wandb td:nth-child(1) { padding: 0 10px; text-align: right }\n",
       "    </style><table class=\"wandb\">\n",
       "<tr><td>epoch</td><td>▁▂▃▃▄▅▆▆▇█</td></tr><tr><td>loss</td><td>█▁▁▁▁▁▁▁▁▁</td></tr><tr><td>accuracy</td><td>▆▂██▄▁▇▃▂▃</td></tr><tr><td>val_loss</td><td>▄█▂▂▁▁▁▁▁▁</td></tr><tr><td>val_accuracy</td><td>█▃▅▃▁▅▃▁▁▂</td></tr><tr><td>_runtime</td><td>▁▂▂▃▄▅▆▇▇█</td></tr><tr><td>_timestamp</td><td>▁▂▂▃▄▅▆▇▇█</td></tr><tr><td>_step</td><td>▁▂▃▃▄▅▆▆▇█</td></tr></table><br/>"
      ],
      "text/plain": [
       "<IPython.core.display.HTML object>"
      ]
     },
     "metadata": {},
     "output_type": "display_data"
    },
    {
     "data": {
      "text/html": [
       "Synced 5 W&B file(s), 1 media file(s), 0 artifact file(s) and 1 other file(s)"
      ],
      "text/plain": [
       "<IPython.core.display.HTML object>"
      ]
     },
     "metadata": {},
     "output_type": "display_data"
    },
    {
     "data": {
      "text/html": [
       "\n",
       "                    <br/>Synced <strong style=\"color:#cdcd00\">cerulean-sweep-7</strong>: <a href=\"https://wandb.ai/rhaas/params-finder-sweep/runs/kio30lwq\" target=\"_blank\">https://wandb.ai/rhaas/params-finder-sweep/runs/kio30lwq</a><br/>\n",
       "                "
      ],
      "text/plain": [
       "<IPython.core.display.HTML object>"
      ]
     },
     "metadata": {},
     "output_type": "display_data"
    },
    {
     "name": "stderr",
     "output_type": "stream",
     "text": [
      "\u001b[34m\u001b[1mwandb\u001b[0m: Agent Starting Run: g8r0l1f2 with config:\n",
      "\u001b[34m\u001b[1mwandb\u001b[0m: \tbatch_size: 207\n",
      "\u001b[34m\u001b[1mwandb\u001b[0m: \tconv_layer_size: 16\n",
      "\u001b[34m\u001b[1mwandb\u001b[0m: \tdropout: 0.3\n",
      "\u001b[34m\u001b[1mwandb\u001b[0m: \tepochs: 10\n",
      "\u001b[34m\u001b[1mwandb\u001b[0m: \tfc_activation: sigmoid\n",
      "\u001b[34m\u001b[1mwandb\u001b[0m: \tfc_layer_size: 512\n",
      "\u001b[34m\u001b[1mwandb\u001b[0m: \tlayers: 2\n",
      "\u001b[34m\u001b[1mwandb\u001b[0m: \tlearning_rate: 0.0820187394599551\n",
      "\u001b[34m\u001b[1mwandb\u001b[0m: \tloss: MeanAbsoluteError\n",
      "\u001b[34m\u001b[1mwandb\u001b[0m: \toptimizer: sgd\n"
     ]
    },
    {
     "data": {
      "text/html": [
       "\n",
       "                Tracking run with wandb version 0.10.33<br/>\n",
       "                Syncing run <strong style=\"color:#cdcd00\">devout-sweep-8</strong> to <a href=\"https://wandb.ai\" target=\"_blank\">Weights & Biases</a> <a href=\"https://docs.wandb.com/integrations/jupyter.html\" target=\"_blank\">(Documentation)</a>.<br/>\n",
       "                Project page: <a href=\"https://wandb.ai/rhaas/params-finder-sweep\" target=\"_blank\">https://wandb.ai/rhaas/params-finder-sweep</a><br/>\n",
       "                Sweep page: <a href=\"https://wandb.ai/rhaas/params-finder-sweep/sweeps/6tloh19c\" target=\"_blank\">https://wandb.ai/rhaas/params-finder-sweep/sweeps/6tloh19c</a><br/>\n",
       "Run page: <a href=\"https://wandb.ai/rhaas/params-finder-sweep/runs/g8r0l1f2\" target=\"_blank\">https://wandb.ai/rhaas/params-finder-sweep/runs/g8r0l1f2</a><br/>\n",
       "                Run data is saved locally in <code>/home/robin/ML/cbm_ring_finder/wandb/run-20210715_151549-g8r0l1f2</code><br/><br/>\n",
       "            "
      ],
      "text/plain": [
       "<IPython.core.display.HTML object>"
      ]
     },
     "metadata": {},
     "output_type": "display_data"
    },
    {
     "name": "stdout",
     "output_type": "stream",
     "text": [
      "Epoch 1/10\n",
      "78/78 [==============================] - 1s 11ms/step - loss: 12.5970 - accuracy: 0.1628 - val_loss: 12.4902 - val_accuracy: 0.0838\n",
      "Epoch 2/10\n",
      "78/78 [==============================] - 1s 9ms/step - loss: 12.5876 - accuracy: 0.1673 - val_loss: 12.4483 - val_accuracy: 0.0327\n",
      "Epoch 3/10\n",
      "78/78 [==============================] - 1s 9ms/step - loss: 12.5761 - accuracy: 0.1690 - val_loss: 12.4182 - val_accuracy: 0.0420\n",
      "Epoch 4/10\n",
      "78/78 [==============================] - 1s 9ms/step - loss: 12.5670 - accuracy: 0.1630 - val_loss: 12.3917 - val_accuracy: 0.0772\n",
      "Epoch 5/10\n",
      "78/78 [==============================] - 1s 9ms/step - loss: 12.5551 - accuracy: 0.1584 - val_loss: 12.3769 - val_accuracy: 0.1135\n",
      "Epoch 6/10\n",
      "78/78 [==============================] - 1s 9ms/step - loss: 12.5456 - accuracy: 0.1618 - val_loss: 12.3695 - val_accuracy: 0.1312\n",
      "Epoch 7/10\n",
      "78/78 [==============================] - 1s 8ms/step - loss: 12.5358 - accuracy: 0.1602 - val_loss: 12.3687 - val_accuracy: 0.1417\n",
      "Epoch 8/10\n",
      "78/78 [==============================] - 1s 9ms/step - loss: 12.5243 - accuracy: 0.1676 - val_loss: 12.3682 - val_accuracy: 0.1517\n",
      "Epoch 9/10\n",
      "78/78 [==============================] - 1s 9ms/step - loss: 12.5114 - accuracy: 0.1670 - val_loss: 12.3649 - val_accuracy: 0.1545\n",
      "Epoch 10/10\n",
      "78/78 [==============================] - 1s 9ms/step - loss: 12.5012 - accuracy: 0.1636 - val_loss: 12.3592 - val_accuracy: 0.1650\n"
     ]
    },
    {
     "data": {
      "text/html": [
       "<br/>Waiting for W&B process to finish, PID 19055<br/>Program ended successfully."
      ],
      "text/plain": [
       "<IPython.core.display.HTML object>"
      ]
     },
     "metadata": {},
     "output_type": "display_data"
    },
    {
     "data": {
      "application/vnd.jupyter.widget-view+json": {
       "model_id": "",
       "version_major": 2,
       "version_minor": 0
      },
      "text/plain": [
       "VBox(children=(Label(value=' 2.07MB of 2.07MB uploaded (0.00MB deduped)\\r'), FloatProgress(value=1.0, max=1.0)…"
      ]
     },
     "metadata": {},
     "output_type": "display_data"
    },
    {
     "data": {
      "text/html": [
       "Find user logs for this run at: <code>/home/robin/ML/cbm_ring_finder/wandb/run-20210715_151549-g8r0l1f2/logs/debug.log</code>"
      ],
      "text/plain": [
       "<IPython.core.display.HTML object>"
      ]
     },
     "metadata": {},
     "output_type": "display_data"
    },
    {
     "data": {
      "text/html": [
       "Find internal logs for this run at: <code>/home/robin/ML/cbm_ring_finder/wandb/run-20210715_151549-g8r0l1f2/logs/debug-internal.log</code>"
      ],
      "text/plain": [
       "<IPython.core.display.HTML object>"
      ]
     },
     "metadata": {},
     "output_type": "display_data"
    },
    {
     "data": {
      "text/html": [
       "<h3>Run summary:</h3><br/><style>\n",
       "    table.wandb td:nth-child(1) { padding: 0 10px; text-align: right }\n",
       "    </style><table class=\"wandb\">\n",
       "<tr><td>epoch</td><td>9</td></tr><tr><td>loss</td><td>12.50116</td></tr><tr><td>accuracy</td><td>0.16356</td></tr><tr><td>val_loss</td><td>12.35917</td></tr><tr><td>val_accuracy</td><td>0.165</td></tr><tr><td>_runtime</td><td>9</td></tr><tr><td>_timestamp</td><td>1626354958</td></tr><tr><td>_step</td><td>9</td></tr><tr><td>best_val_loss</td><td>12.35917</td></tr><tr><td>best_epoch</td><td>9</td></tr></table>"
      ],
      "text/plain": [
       "<IPython.core.display.HTML object>"
      ]
     },
     "metadata": {},
     "output_type": "display_data"
    },
    {
     "data": {
      "text/html": [
       "<h3>Run history:</h3><br/><style>\n",
       "    table.wandb td:nth-child(1) { padding: 0 10px; text-align: right }\n",
       "    </style><table class=\"wandb\">\n",
       "<tr><td>epoch</td><td>▁▂▃▃▄▅▆▆▇█</td></tr><tr><td>loss</td><td>█▇▆▆▅▄▄▃▂▁</td></tr><tr><td>accuracy</td><td>▄▇█▄▁▃▂▇▇▄</td></tr><tr><td>val_loss</td><td>█▆▄▃▂▂▂▁▁▁</td></tr><tr><td>val_accuracy</td><td>▄▁▁▃▅▆▇▇▇█</td></tr><tr><td>_runtime</td><td>▁▂▂▃▅▅▆▇██</td></tr><tr><td>_timestamp</td><td>▁▂▂▃▅▅▆▇██</td></tr><tr><td>_step</td><td>▁▂▃▃▄▅▆▆▇█</td></tr></table><br/>"
      ],
      "text/plain": [
       "<IPython.core.display.HTML object>"
      ]
     },
     "metadata": {},
     "output_type": "display_data"
    },
    {
     "data": {
      "text/html": [
       "Synced 5 W&B file(s), 1 media file(s), 0 artifact file(s) and 1 other file(s)"
      ],
      "text/plain": [
       "<IPython.core.display.HTML object>"
      ]
     },
     "metadata": {},
     "output_type": "display_data"
    },
    {
     "data": {
      "text/html": [
       "\n",
       "                    <br/>Synced <strong style=\"color:#cdcd00\">devout-sweep-8</strong>: <a href=\"https://wandb.ai/rhaas/params-finder-sweep/runs/g8r0l1f2\" target=\"_blank\">https://wandb.ai/rhaas/params-finder-sweep/runs/g8r0l1f2</a><br/>\n",
       "                "
      ],
      "text/plain": [
       "<IPython.core.display.HTML object>"
      ]
     },
     "metadata": {},
     "output_type": "display_data"
    },
    {
     "name": "stderr",
     "output_type": "stream",
     "text": [
      "\u001b[34m\u001b[1mwandb\u001b[0m: Agent Starting Run: qgr9fwkd with config:\n",
      "\u001b[34m\u001b[1mwandb\u001b[0m: \tbatch_size: 244\n",
      "\u001b[34m\u001b[1mwandb\u001b[0m: \tconv_layer_size: 32\n",
      "\u001b[34m\u001b[1mwandb\u001b[0m: \tdropout: 0.3\n",
      "\u001b[34m\u001b[1mwandb\u001b[0m: \tepochs: 10\n",
      "\u001b[34m\u001b[1mwandb\u001b[0m: \tfc_activation: relu\n",
      "\u001b[34m\u001b[1mwandb\u001b[0m: \tfc_layer_size: 256\n",
      "\u001b[34m\u001b[1mwandb\u001b[0m: \tlayers: 3\n",
      "\u001b[34m\u001b[1mwandb\u001b[0m: \tlearning_rate: 0.006916895697546466\n",
      "\u001b[34m\u001b[1mwandb\u001b[0m: \tloss: MeanAbsoluteError\n",
      "\u001b[34m\u001b[1mwandb\u001b[0m: \toptimizer: sgd\n"
     ]
    },
    {
     "data": {
      "text/html": [
       "\n",
       "                Tracking run with wandb version 0.10.33<br/>\n",
       "                Syncing run <strong style=\"color:#cdcd00\">rare-sweep-9</strong> to <a href=\"https://wandb.ai\" target=\"_blank\">Weights & Biases</a> <a href=\"https://docs.wandb.com/integrations/jupyter.html\" target=\"_blank\">(Documentation)</a>.<br/>\n",
       "                Project page: <a href=\"https://wandb.ai/rhaas/params-finder-sweep\" target=\"_blank\">https://wandb.ai/rhaas/params-finder-sweep</a><br/>\n",
       "                Sweep page: <a href=\"https://wandb.ai/rhaas/params-finder-sweep/sweeps/6tloh19c\" target=\"_blank\">https://wandb.ai/rhaas/params-finder-sweep/sweeps/6tloh19c</a><br/>\n",
       "Run page: <a href=\"https://wandb.ai/rhaas/params-finder-sweep/runs/qgr9fwkd\" target=\"_blank\">https://wandb.ai/rhaas/params-finder-sweep/runs/qgr9fwkd</a><br/>\n",
       "                Run data is saved locally in <code>/home/robin/ML/cbm_ring_finder/wandb/run-20210715_151603-qgr9fwkd</code><br/><br/>\n",
       "            "
      ],
      "text/plain": [
       "<IPython.core.display.HTML object>"
      ]
     },
     "metadata": {},
     "output_type": "display_data"
    },
    {
     "name": "stdout",
     "output_type": "stream",
     "text": [
      "Epoch 1/10\n",
      "66/66 [==============================] - 2s 20ms/step - loss: 12.2097 - accuracy: 0.1431 - val_loss: 12.8883 - val_accuracy: 0.0022\n",
      "Epoch 2/10\n",
      "66/66 [==============================] - 1s 16ms/step - loss: 11.7590 - accuracy: 0.1293 - val_loss: 12.6854 - val_accuracy: 0.0180\n",
      "Epoch 3/10\n",
      "66/66 [==============================] - 1s 16ms/step - loss: 10.9453 - accuracy: 0.1439 - val_loss: 12.6296 - val_accuracy: 0.0103\n",
      "Epoch 4/10\n",
      "66/66 [==============================] - 1s 17ms/step - loss: 10.1300 - accuracy: 0.1735 - val_loss: 12.7025 - val_accuracy: 0.0160\n",
      "Epoch 5/10\n",
      "66/66 [==============================] - 1s 16ms/step - loss: 9.4256 - accuracy: 0.1935 - val_loss: 12.7204 - val_accuracy: 0.0318\n",
      "Epoch 6/10\n",
      "66/66 [==============================] - 1s 18ms/step - loss: 8.7984 - accuracy: 0.2024 - val_loss: 12.7023 - val_accuracy: 0.0578\n",
      "Epoch 7/10\n",
      "66/66 [==============================] - 1s 17ms/step - loss: 8.2287 - accuracy: 0.2136 - val_loss: 12.6054 - val_accuracy: 0.0702\n",
      "Epoch 8/10\n",
      "66/66 [==============================] - 1s 16ms/step - loss: 7.7106 - accuracy: 0.2354 - val_loss: 12.4629 - val_accuracy: 0.0868\n",
      "Epoch 9/10\n",
      "66/66 [==============================] - 1s 16ms/step - loss: 7.2562 - accuracy: 0.2611 - val_loss: 12.2052 - val_accuracy: 0.1140\n",
      "Epoch 10/10\n",
      "66/66 [==============================] - 1s 16ms/step - loss: 6.8552 - accuracy: 0.2759 - val_loss: 11.5832 - val_accuracy: 0.1567\n"
     ]
    },
    {
     "data": {
      "text/html": [
       "<br/>Waiting for W&B process to finish, PID 19157<br/>Program ended successfully."
      ],
      "text/plain": [
       "<IPython.core.display.HTML object>"
      ]
     },
     "metadata": {},
     "output_type": "display_data"
    },
    {
     "data": {
      "application/vnd.jupyter.widget-view+json": {
       "model_id": "",
       "version_major": 2,
       "version_minor": 0
      },
      "text/plain": [
       "VBox(children=(Label(value=' 0.64MB of 0.64MB uploaded (0.00MB deduped)\\r'), FloatProgress(value=1.0, max=1.0)…"
      ]
     },
     "metadata": {},
     "output_type": "display_data"
    },
    {
     "data": {
      "text/html": [
       "Find user logs for this run at: <code>/home/robin/ML/cbm_ring_finder/wandb/run-20210715_151603-qgr9fwkd/logs/debug.log</code>"
      ],
      "text/plain": [
       "<IPython.core.display.HTML object>"
      ]
     },
     "metadata": {},
     "output_type": "display_data"
    },
    {
     "data": {
      "text/html": [
       "Find internal logs for this run at: <code>/home/robin/ML/cbm_ring_finder/wandb/run-20210715_151603-qgr9fwkd/logs/debug-internal.log</code>"
      ],
      "text/plain": [
       "<IPython.core.display.HTML object>"
      ]
     },
     "metadata": {},
     "output_type": "display_data"
    },
    {
     "data": {
      "text/html": [
       "<h3>Run summary:</h3><br/><style>\n",
       "    table.wandb td:nth-child(1) { padding: 0 10px; text-align: right }\n",
       "    </style><table class=\"wandb\">\n",
       "<tr><td>epoch</td><td>9</td></tr><tr><td>loss</td><td>6.85518</td></tr><tr><td>accuracy</td><td>0.27588</td></tr><tr><td>val_loss</td><td>11.58319</td></tr><tr><td>val_accuracy</td><td>0.15675</td></tr><tr><td>_runtime</td><td>14</td></tr><tr><td>_timestamp</td><td>1626354977</td></tr><tr><td>_step</td><td>9</td></tr><tr><td>best_val_loss</td><td>11.58319</td></tr><tr><td>best_epoch</td><td>9</td></tr></table>"
      ],
      "text/plain": [
       "<IPython.core.display.HTML object>"
      ]
     },
     "metadata": {},
     "output_type": "display_data"
    },
    {
     "data": {
      "text/html": [
       "<h3>Run history:</h3><br/><style>\n",
       "    table.wandb td:nth-child(1) { padding: 0 10px; text-align: right }\n",
       "    </style><table class=\"wandb\">\n",
       "<tr><td>epoch</td><td>▁▂▃▃▄▅▆▆▇█</td></tr><tr><td>loss</td><td>█▇▆▅▄▄▃▂▂▁</td></tr><tr><td>accuracy</td><td>▂▁▂▃▄▄▅▆▇█</td></tr><tr><td>val_loss</td><td>█▇▇▇▇▇▆▆▄▁</td></tr><tr><td>val_accuracy</td><td>▁▂▁▂▂▄▄▅▆█</td></tr><tr><td>_runtime</td><td>▁▂▂▃▄▅▅▇▇█</td></tr><tr><td>_timestamp</td><td>▁▂▂▃▄▅▅▇▇█</td></tr><tr><td>_step</td><td>▁▂▃▃▄▅▆▆▇█</td></tr></table><br/>"
      ],
      "text/plain": [
       "<IPython.core.display.HTML object>"
      ]
     },
     "metadata": {},
     "output_type": "display_data"
    },
    {
     "data": {
      "text/html": [
       "Synced 5 W&B file(s), 1 media file(s), 0 artifact file(s) and 1 other file(s)"
      ],
      "text/plain": [
       "<IPython.core.display.HTML object>"
      ]
     },
     "metadata": {},
     "output_type": "display_data"
    },
    {
     "data": {
      "text/html": [
       "\n",
       "                    <br/>Synced <strong style=\"color:#cdcd00\">rare-sweep-9</strong>: <a href=\"https://wandb.ai/rhaas/params-finder-sweep/runs/qgr9fwkd\" target=\"_blank\">https://wandb.ai/rhaas/params-finder-sweep/runs/qgr9fwkd</a><br/>\n",
       "                "
      ],
      "text/plain": [
       "<IPython.core.display.HTML object>"
      ]
     },
     "metadata": {},
     "output_type": "display_data"
    },
    {
     "name": "stderr",
     "output_type": "stream",
     "text": [
      "\u001b[34m\u001b[1mwandb\u001b[0m: Agent Starting Run: rz7nvmd7 with config:\n",
      "\u001b[34m\u001b[1mwandb\u001b[0m: \tbatch_size: 177\n",
      "\u001b[34m\u001b[1mwandb\u001b[0m: \tconv_layer_size: 64\n",
      "\u001b[34m\u001b[1mwandb\u001b[0m: \tdropout: 0.3\n",
      "\u001b[34m\u001b[1mwandb\u001b[0m: \tepochs: 10\n",
      "\u001b[34m\u001b[1mwandb\u001b[0m: \tfc_activation: sigmoid\n",
      "\u001b[34m\u001b[1mwandb\u001b[0m: \tfc_layer_size: 256\n",
      "\u001b[34m\u001b[1mwandb\u001b[0m: \tlayers: 2\n",
      "\u001b[34m\u001b[1mwandb\u001b[0m: \tlearning_rate: 0.06682594822751772\n",
      "\u001b[34m\u001b[1mwandb\u001b[0m: \tloss: MeanAbsoluteError\n",
      "\u001b[34m\u001b[1mwandb\u001b[0m: \toptimizer: adam\n"
     ]
    },
    {
     "data": {
      "text/html": [
       "\n",
       "                Tracking run with wandb version 0.10.33<br/>\n",
       "                Syncing run <strong style=\"color:#cdcd00\">crimson-sweep-10</strong> to <a href=\"https://wandb.ai\" target=\"_blank\">Weights & Biases</a> <a href=\"https://docs.wandb.com/integrations/jupyter.html\" target=\"_blank\">(Documentation)</a>.<br/>\n",
       "                Project page: <a href=\"https://wandb.ai/rhaas/params-finder-sweep\" target=\"_blank\">https://wandb.ai/rhaas/params-finder-sweep</a><br/>\n",
       "                Sweep page: <a href=\"https://wandb.ai/rhaas/params-finder-sweep/sweeps/6tloh19c\" target=\"_blank\">https://wandb.ai/rhaas/params-finder-sweep/sweeps/6tloh19c</a><br/>\n",
       "Run page: <a href=\"https://wandb.ai/rhaas/params-finder-sweep/runs/rz7nvmd7\" target=\"_blank\">https://wandb.ai/rhaas/params-finder-sweep/runs/rz7nvmd7</a><br/>\n",
       "                Run data is saved locally in <code>/home/robin/ML/cbm_ring_finder/wandb/run-20210715_151621-rz7nvmd7</code><br/><br/>\n",
       "            "
      ],
      "text/plain": [
       "<IPython.core.display.HTML object>"
      ]
     },
     "metadata": {},
     "output_type": "display_data"
    },
    {
     "name": "stdout",
     "output_type": "stream",
     "text": [
      "Epoch 1/10\n",
      " 7/91 [=>............................] - ETA: 1s - loss: 12.6013 - accuracy: 0.1961"
     ]
    },
    {
     "name": "stderr",
     "output_type": "stream",
     "text": [
      "\u001b[34m\u001b[1mwandb\u001b[0m: Ctrl + C detected. Stopping sweep.\n"
     ]
    },
    {
     "data": {
      "text/html": [
       "<br/>Waiting for W&B process to finish, PID 19252<br/>Program failed with code 1.  Press ctrl-c to abort syncing."
      ],
      "text/plain": [
       "<IPython.core.display.HTML object>"
      ]
     },
     "metadata": {},
     "output_type": "display_data"
    },
    {
     "data": {
      "application/vnd.jupyter.widget-view+json": {
       "model_id": "307f5677108848e8aba77196d562b254",
       "version_major": 2,
       "version_minor": 0
      },
      "text/plain": [
       "VBox(children=(Label(value=' 0.00MB of 0.00MB uploaded (0.00MB deduped)\\r'), FloatProgress(value=1.0, max=1.0)…"
      ]
     },
     "metadata": {},
     "output_type": "display_data"
    }
   ],
   "source": [
    "wandb.agent(sweep_id, train, count=200)"
   ]
  },
  {
   "cell_type": "code",
   "execution_count": 3,
   "id": "95f39564-929d-451d-a5e8-67c7d5adb9b4",
   "metadata": {
    "tags": []
   },
   "outputs": [],
   "source": [
    "## train model\n",
    "#opt = tf.keras.optimizers.Adam()\n",
    "#model.compile(optimizer=opt, loss=custom_loss_function, metrics='accuracy')\n",
    "#model.fit(displays, params, batch_size=100, epochs=15, validation_split=0.2)\n",
    "\n",
    "#compare_true_and_predict(displays_test, params_test, model, 8)"
   ]
  }
 ],
 "metadata": {
  "kernelspec": {
   "display_name": "Python 3",
   "language": "python",
   "name": "python3"
  },
  "language_info": {
   "codemirror_mode": {
    "name": "ipython",
    "version": 3
   },
   "file_extension": ".py",
   "mimetype": "text/x-python",
   "name": "python",
   "nbconvert_exporter": "python",
   "pygments_lexer": "ipython3",
   "version": "3.9.5"
  }
 },
 "nbformat": 4,
 "nbformat_minor": 5
}
